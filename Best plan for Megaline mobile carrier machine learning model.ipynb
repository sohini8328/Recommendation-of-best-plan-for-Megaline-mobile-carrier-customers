{
 "cells": [
  {
   "cell_type": "markdown",
   "metadata": {},
   "source": [
    "## Recommendation of best plan for Megaline mobile carrier customers"
   ]
  },
  {
   "cell_type": "markdown",
   "metadata": {},
   "source": [
    "## Introduction\n",
    "#### The purpose of this project is to recommend the best plan to the new customers based on their mobile behavior.\n"
   ]
  },
  {
   "cell_type": "code",
   "execution_count": 1,
   "metadata": {},
   "outputs": [],
   "source": [
    "## Loading the lbraries needed for the project\n",
    "import pandas as pd\n",
    "import numpy as np\n",
    "import matplotlib.pyplot as plt\n",
    "from scipy import stats as st\n",
    "\n",
    "from sklearn.tree import DecisionTreeClassifier\n",
    "from sklearn.metrics import accuracy_score\n",
    "from sklearn.ensemble import RandomForestClassifier\n",
    "from sklearn.linear_model import LogisticRegression\n",
    "from sklearn.preprocessing import StandardScaler\n",
    "from sklearn.metrics import mean_squared_error\n",
    "\n",
    "from sklearn.model_selection import train_test_split\n",
    "%matplotlib inline\n",
    "from IPython.display import Image"
   ]
  },
  {
   "cell_type": "code",
   "execution_count": 2,
   "metadata": {},
   "outputs": [
    {
     "data": {
      "text/html": [
       "<div>\n",
       "<style scoped>\n",
       "    .dataframe tbody tr th:only-of-type {\n",
       "        vertical-align: middle;\n",
       "    }\n",
       "\n",
       "    .dataframe tbody tr th {\n",
       "        vertical-align: top;\n",
       "    }\n",
       "\n",
       "    .dataframe thead th {\n",
       "        text-align: right;\n",
       "    }\n",
       "</style>\n",
       "<table border=\"1\" class=\"dataframe\">\n",
       "  <thead>\n",
       "    <tr style=\"text-align: right;\">\n",
       "      <th></th>\n",
       "      <th>calls</th>\n",
       "      <th>minutes</th>\n",
       "      <th>messages</th>\n",
       "      <th>mb_used</th>\n",
       "      <th>is_ultra</th>\n",
       "    </tr>\n",
       "  </thead>\n",
       "  <tbody>\n",
       "    <tr>\n",
       "      <th>1583</th>\n",
       "      <td>70.0</td>\n",
       "      <td>561.85</td>\n",
       "      <td>28.0</td>\n",
       "      <td>23850.76</td>\n",
       "      <td>0</td>\n",
       "    </tr>\n",
       "    <tr>\n",
       "      <th>1625</th>\n",
       "      <td>38.0</td>\n",
       "      <td>271.41</td>\n",
       "      <td>14.0</td>\n",
       "      <td>8152.11</td>\n",
       "      <td>1</td>\n",
       "    </tr>\n",
       "    <tr>\n",
       "      <th>2193</th>\n",
       "      <td>44.0</td>\n",
       "      <td>295.84</td>\n",
       "      <td>0.0</td>\n",
       "      <td>15043.52</td>\n",
       "      <td>0</td>\n",
       "    </tr>\n",
       "    <tr>\n",
       "      <th>625</th>\n",
       "      <td>77.0</td>\n",
       "      <td>502.87</td>\n",
       "      <td>5.0</td>\n",
       "      <td>6928.00</td>\n",
       "      <td>0</td>\n",
       "    </tr>\n",
       "    <tr>\n",
       "      <th>1940</th>\n",
       "      <td>61.0</td>\n",
       "      <td>391.04</td>\n",
       "      <td>21.0</td>\n",
       "      <td>20625.04</td>\n",
       "      <td>0</td>\n",
       "    </tr>\n",
       "    <tr>\n",
       "      <th>230</th>\n",
       "      <td>36.0</td>\n",
       "      <td>267.58</td>\n",
       "      <td>13.0</td>\n",
       "      <td>12737.08</td>\n",
       "      <td>0</td>\n",
       "    </tr>\n",
       "    <tr>\n",
       "      <th>2511</th>\n",
       "      <td>72.0</td>\n",
       "      <td>439.92</td>\n",
       "      <td>29.0</td>\n",
       "      <td>14472.76</td>\n",
       "      <td>0</td>\n",
       "    </tr>\n",
       "    <tr>\n",
       "      <th>3149</th>\n",
       "      <td>78.0</td>\n",
       "      <td>503.55</td>\n",
       "      <td>57.0</td>\n",
       "      <td>15258.51</td>\n",
       "      <td>0</td>\n",
       "    </tr>\n",
       "    <tr>\n",
       "      <th>1109</th>\n",
       "      <td>69.0</td>\n",
       "      <td>479.79</td>\n",
       "      <td>0.0</td>\n",
       "      <td>17559.43</td>\n",
       "      <td>0</td>\n",
       "    </tr>\n",
       "    <tr>\n",
       "      <th>3101</th>\n",
       "      <td>115.0</td>\n",
       "      <td>795.39</td>\n",
       "      <td>94.0</td>\n",
       "      <td>11356.90</td>\n",
       "      <td>1</td>\n",
       "    </tr>\n",
       "    <tr>\n",
       "      <th>386</th>\n",
       "      <td>19.0</td>\n",
       "      <td>147.72</td>\n",
       "      <td>20.0</td>\n",
       "      <td>19476.83</td>\n",
       "      <td>0</td>\n",
       "    </tr>\n",
       "    <tr>\n",
       "      <th>38</th>\n",
       "      <td>23.0</td>\n",
       "      <td>146.18</td>\n",
       "      <td>33.0</td>\n",
       "      <td>9711.45</td>\n",
       "      <td>0</td>\n",
       "    </tr>\n",
       "    <tr>\n",
       "      <th>3143</th>\n",
       "      <td>69.0</td>\n",
       "      <td>439.39</td>\n",
       "      <td>82.0</td>\n",
       "      <td>19315.86</td>\n",
       "      <td>1</td>\n",
       "    </tr>\n",
       "    <tr>\n",
       "      <th>1491</th>\n",
       "      <td>63.0</td>\n",
       "      <td>385.09</td>\n",
       "      <td>18.0</td>\n",
       "      <td>14518.03</td>\n",
       "      <td>0</td>\n",
       "    </tr>\n",
       "    <tr>\n",
       "      <th>2166</th>\n",
       "      <td>27.0</td>\n",
       "      <td>182.90</td>\n",
       "      <td>15.0</td>\n",
       "      <td>12756.92</td>\n",
       "      <td>0</td>\n",
       "    </tr>\n",
       "    <tr>\n",
       "      <th>1884</th>\n",
       "      <td>60.0</td>\n",
       "      <td>407.95</td>\n",
       "      <td>0.0</td>\n",
       "      <td>26965.37</td>\n",
       "      <td>0</td>\n",
       "    </tr>\n",
       "    <tr>\n",
       "      <th>308</th>\n",
       "      <td>28.0</td>\n",
       "      <td>206.12</td>\n",
       "      <td>118.0</td>\n",
       "      <td>22591.45</td>\n",
       "      <td>1</td>\n",
       "    </tr>\n",
       "    <tr>\n",
       "      <th>1736</th>\n",
       "      <td>42.0</td>\n",
       "      <td>281.39</td>\n",
       "      <td>0.0</td>\n",
       "      <td>21421.28</td>\n",
       "      <td>1</td>\n",
       "    </tr>\n",
       "    <tr>\n",
       "      <th>2261</th>\n",
       "      <td>32.0</td>\n",
       "      <td>208.49</td>\n",
       "      <td>0.0</td>\n",
       "      <td>21428.06</td>\n",
       "      <td>0</td>\n",
       "    </tr>\n",
       "    <tr>\n",
       "      <th>1415</th>\n",
       "      <td>82.0</td>\n",
       "      <td>507.89</td>\n",
       "      <td>88.0</td>\n",
       "      <td>17543.37</td>\n",
       "      <td>1</td>\n",
       "    </tr>\n",
       "    <tr>\n",
       "      <th>1829</th>\n",
       "      <td>84.0</td>\n",
       "      <td>580.43</td>\n",
       "      <td>54.0</td>\n",
       "      <td>8668.24</td>\n",
       "      <td>0</td>\n",
       "    </tr>\n",
       "    <tr>\n",
       "      <th>1780</th>\n",
       "      <td>73.0</td>\n",
       "      <td>419.90</td>\n",
       "      <td>0.0</td>\n",
       "      <td>18521.67</td>\n",
       "      <td>0</td>\n",
       "    </tr>\n",
       "    <tr>\n",
       "      <th>2017</th>\n",
       "      <td>84.0</td>\n",
       "      <td>616.08</td>\n",
       "      <td>0.0</td>\n",
       "      <td>19332.61</td>\n",
       "      <td>0</td>\n",
       "    </tr>\n",
       "    <tr>\n",
       "      <th>2270</th>\n",
       "      <td>57.0</td>\n",
       "      <td>558.06</td>\n",
       "      <td>40.0</td>\n",
       "      <td>12270.33</td>\n",
       "      <td>0</td>\n",
       "    </tr>\n",
       "    <tr>\n",
       "      <th>548</th>\n",
       "      <td>69.0</td>\n",
       "      <td>512.25</td>\n",
       "      <td>25.0</td>\n",
       "      <td>11084.53</td>\n",
       "      <td>0</td>\n",
       "    </tr>\n",
       "  </tbody>\n",
       "</table>\n",
       "</div>"
      ],
      "text/plain": [
       "      calls  minutes  messages   mb_used  is_ultra\n",
       "1583   70.0   561.85      28.0  23850.76         0\n",
       "1625   38.0   271.41      14.0   8152.11         1\n",
       "2193   44.0   295.84       0.0  15043.52         0\n",
       "625    77.0   502.87       5.0   6928.00         0\n",
       "1940   61.0   391.04      21.0  20625.04         0\n",
       "230    36.0   267.58      13.0  12737.08         0\n",
       "2511   72.0   439.92      29.0  14472.76         0\n",
       "3149   78.0   503.55      57.0  15258.51         0\n",
       "1109   69.0   479.79       0.0  17559.43         0\n",
       "3101  115.0   795.39      94.0  11356.90         1\n",
       "386    19.0   147.72      20.0  19476.83         0\n",
       "38     23.0   146.18      33.0   9711.45         0\n",
       "3143   69.0   439.39      82.0  19315.86         1\n",
       "1491   63.0   385.09      18.0  14518.03         0\n",
       "2166   27.0   182.90      15.0  12756.92         0\n",
       "1884   60.0   407.95       0.0  26965.37         0\n",
       "308    28.0   206.12     118.0  22591.45         1\n",
       "1736   42.0   281.39       0.0  21421.28         1\n",
       "2261   32.0   208.49       0.0  21428.06         0\n",
       "1415   82.0   507.89      88.0  17543.37         1\n",
       "1829   84.0   580.43      54.0   8668.24         0\n",
       "1780   73.0   419.90       0.0  18521.67         0\n",
       "2017   84.0   616.08       0.0  19332.61         0\n",
       "2270   57.0   558.06      40.0  12270.33         0\n",
       "548    69.0   512.25      25.0  11084.53         0"
      ]
     },
     "execution_count": 2,
     "metadata": {},
     "output_type": "execute_result"
    }
   ],
   "source": [
    "# Reading the dataset\n",
    "df = pd.read_csv('/datasets/users_behavior.csv')\n",
    "df.sample(25)"
   ]
  },
  {
   "cell_type": "markdown",
   "metadata": {},
   "source": [
    "#### Upon initial observation, it appears that Ultra customers utilize more call services, whereas Smart customers are heavy internet users, as indicated by high data usage. I assume that Smart customers use the internet significantly more than Ultra customers. Therefore, I would like to develop a model that recommends the Ultra plan for those who inquire about internet usage."
   ]
  },
  {
   "cell_type": "code",
   "execution_count": 3,
   "metadata": {},
   "outputs": [
    {
     "data": {
      "text/html": [
       "<div>\n",
       "<style scoped>\n",
       "    .dataframe tbody tr th:only-of-type {\n",
       "        vertical-align: middle;\n",
       "    }\n",
       "\n",
       "    .dataframe tbody tr th {\n",
       "        vertical-align: top;\n",
       "    }\n",
       "\n",
       "    .dataframe thead th {\n",
       "        text-align: right;\n",
       "    }\n",
       "</style>\n",
       "<table border=\"1\" class=\"dataframe\">\n",
       "  <thead>\n",
       "    <tr style=\"text-align: right;\">\n",
       "      <th></th>\n",
       "      <th>calls</th>\n",
       "      <th>minutes</th>\n",
       "      <th>messages</th>\n",
       "      <th>mb_used</th>\n",
       "      <th>is_ultra</th>\n",
       "    </tr>\n",
       "  </thead>\n",
       "  <tbody>\n",
       "    <tr>\n",
       "      <th>count</th>\n",
       "      <td>3214.000000</td>\n",
       "      <td>3214.000000</td>\n",
       "      <td>3214.000000</td>\n",
       "      <td>3214.000000</td>\n",
       "      <td>3214.000000</td>\n",
       "    </tr>\n",
       "    <tr>\n",
       "      <th>mean</th>\n",
       "      <td>63.038892</td>\n",
       "      <td>438.208787</td>\n",
       "      <td>38.281269</td>\n",
       "      <td>17207.673836</td>\n",
       "      <td>0.306472</td>\n",
       "    </tr>\n",
       "    <tr>\n",
       "      <th>std</th>\n",
       "      <td>33.236368</td>\n",
       "      <td>234.569872</td>\n",
       "      <td>36.148326</td>\n",
       "      <td>7570.968246</td>\n",
       "      <td>0.461100</td>\n",
       "    </tr>\n",
       "    <tr>\n",
       "      <th>min</th>\n",
       "      <td>0.000000</td>\n",
       "      <td>0.000000</td>\n",
       "      <td>0.000000</td>\n",
       "      <td>0.000000</td>\n",
       "      <td>0.000000</td>\n",
       "    </tr>\n",
       "    <tr>\n",
       "      <th>25%</th>\n",
       "      <td>40.000000</td>\n",
       "      <td>274.575000</td>\n",
       "      <td>9.000000</td>\n",
       "      <td>12491.902500</td>\n",
       "      <td>0.000000</td>\n",
       "    </tr>\n",
       "    <tr>\n",
       "      <th>50%</th>\n",
       "      <td>62.000000</td>\n",
       "      <td>430.600000</td>\n",
       "      <td>30.000000</td>\n",
       "      <td>16943.235000</td>\n",
       "      <td>0.000000</td>\n",
       "    </tr>\n",
       "    <tr>\n",
       "      <th>75%</th>\n",
       "      <td>82.000000</td>\n",
       "      <td>571.927500</td>\n",
       "      <td>57.000000</td>\n",
       "      <td>21424.700000</td>\n",
       "      <td>1.000000</td>\n",
       "    </tr>\n",
       "    <tr>\n",
       "      <th>max</th>\n",
       "      <td>244.000000</td>\n",
       "      <td>1632.060000</td>\n",
       "      <td>224.000000</td>\n",
       "      <td>49745.730000</td>\n",
       "      <td>1.000000</td>\n",
       "    </tr>\n",
       "  </tbody>\n",
       "</table>\n",
       "</div>"
      ],
      "text/plain": [
       "             calls      minutes     messages       mb_used     is_ultra\n",
       "count  3214.000000  3214.000000  3214.000000   3214.000000  3214.000000\n",
       "mean     63.038892   438.208787    38.281269  17207.673836     0.306472\n",
       "std      33.236368   234.569872    36.148326   7570.968246     0.461100\n",
       "min       0.000000     0.000000     0.000000      0.000000     0.000000\n",
       "25%      40.000000   274.575000     9.000000  12491.902500     0.000000\n",
       "50%      62.000000   430.600000    30.000000  16943.235000     0.000000\n",
       "75%      82.000000   571.927500    57.000000  21424.700000     1.000000\n",
       "max     244.000000  1632.060000   224.000000  49745.730000     1.000000"
      ]
     },
     "execution_count": 3,
     "metadata": {},
     "output_type": "execute_result"
    }
   ],
   "source": [
    "df.describe()"
   ]
  },
  {
   "cell_type": "markdown",
   "metadata": {},
   "source": [
    "#### "
   ]
  },
  {
   "cell_type": "code",
   "execution_count": 4,
   "metadata": {},
   "outputs": [
    {
     "data": {
      "text/plain": [
       "(3214, 5)"
      ]
     },
     "execution_count": 4,
     "metadata": {},
     "output_type": "execute_result"
    }
   ],
   "source": [
    "# Looking at number of rows and columns\n",
    "df.shape"
   ]
  },
  {
   "cell_type": "code",
   "execution_count": 5,
   "metadata": {},
   "outputs": [
    {
     "name": "stdout",
     "output_type": "stream",
     "text": [
      "<class 'pandas.core.frame.DataFrame'>\n",
      "RangeIndex: 3214 entries, 0 to 3213\n",
      "Data columns (total 5 columns):\n",
      " #   Column    Non-Null Count  Dtype  \n",
      "---  ------    --------------  -----  \n",
      " 0   calls     3214 non-null   float64\n",
      " 1   minutes   3214 non-null   float64\n",
      " 2   messages  3214 non-null   float64\n",
      " 3   mb_used   3214 non-null   float64\n",
      " 4   is_ultra  3214 non-null   int64  \n",
      "dtypes: float64(4), int64(1)\n",
      "memory usage: 125.7 KB\n"
     ]
    }
   ],
   "source": [
    "df.info()"
   ]
  },
  {
   "cell_type": "code",
   "execution_count": 6,
   "metadata": {
    "scrolled": true
   },
   "outputs": [
    {
     "data": {
      "text/plain": [
       "calls       0\n",
       "minutes     0\n",
       "messages    0\n",
       "mb_used     0\n",
       "is_ultra    0\n",
       "dtype: int64"
      ]
     },
     "execution_count": 6,
     "metadata": {},
     "output_type": "execute_result"
    }
   ],
   "source": [
    "## checking any missing values\n",
    "df.isna().sum()"
   ]
  },
  {
   "cell_type": "markdown",
   "metadata": {},
   "source": [
    "## There is no missing data in the data frame"
   ]
  },
  {
   "cell_type": "code",
   "execution_count": 7,
   "metadata": {},
   "outputs": [
    {
     "data": {
      "text/html": [
       "<div>\n",
       "<style scoped>\n",
       "    .dataframe tbody tr th:only-of-type {\n",
       "        vertical-align: middle;\n",
       "    }\n",
       "\n",
       "    .dataframe tbody tr th {\n",
       "        vertical-align: top;\n",
       "    }\n",
       "\n",
       "    .dataframe thead th {\n",
       "        text-align: right;\n",
       "    }\n",
       "</style>\n",
       "<table border=\"1\" class=\"dataframe\">\n",
       "  <thead>\n",
       "    <tr style=\"text-align: right;\">\n",
       "      <th></th>\n",
       "      <th>calls</th>\n",
       "      <th>messages</th>\n",
       "      <th>mb_used</th>\n",
       "      <th>minutes</th>\n",
       "    </tr>\n",
       "    <tr>\n",
       "      <th>is_ultra</th>\n",
       "      <th></th>\n",
       "      <th></th>\n",
       "      <th></th>\n",
       "      <th></th>\n",
       "    </tr>\n",
       "  </thead>\n",
       "  <tbody>\n",
       "    <tr>\n",
       "      <th>0</th>\n",
       "      <td>130315.0</td>\n",
       "      <td>74413.0</td>\n",
       "      <td>36128672.83</td>\n",
       "      <td>904846.84</td>\n",
       "    </tr>\n",
       "    <tr>\n",
       "      <th>1</th>\n",
       "      <td>72292.0</td>\n",
       "      <td>48623.0</td>\n",
       "      <td>19176790.88</td>\n",
       "      <td>503556.20</td>\n",
       "    </tr>\n",
       "  </tbody>\n",
       "</table>\n",
       "</div>"
      ],
      "text/plain": [
       "             calls  messages      mb_used    minutes\n",
       "is_ultra                                            \n",
       "0         130315.0   74413.0  36128672.83  904846.84\n",
       "1          72292.0   48623.0  19176790.88  503556.20"
      ]
     },
     "execution_count": 7,
     "metadata": {},
     "output_type": "execute_result"
    }
   ],
   "source": [
    "df.groupby('is_ultra')['calls','messages','mb_used', 'minutes'].sum()"
   ]
  },
  {
   "cell_type": "code",
   "execution_count": 8,
   "metadata": {},
   "outputs": [
    {
     "data": {
      "text/plain": [
       "0    2229\n",
       "1     985\n",
       "Name: is_ultra, dtype: int64"
      ]
     },
     "execution_count": 8,
     "metadata": {},
     "output_type": "execute_result"
    }
   ],
   "source": [
    "df['is_ultra'].value_counts()"
   ]
  },
  {
   "cell_type": "markdown",
   "metadata": {},
   "source": [
    "## I can say with above data that smart has way more customers than Ultra."
   ]
  },
  {
   "cell_type": "code",
   "execution_count": 9,
   "metadata": {},
   "outputs": [
    {
     "name": "stdout",
     "output_type": "stream",
     "text": [
      "(3214, 4)\n",
      "(3214,)\n"
     ]
    }
   ],
   "source": [
    "## assigning variables features and target feature \n",
    "features = df.drop(['is_ultra'], axis = 1)\n",
    "target = df['is_ultra']\n",
    "print(features.shape)\n",
    "print(target.shape)"
   ]
  },
  {
   "cell_type": "markdown",
   "metadata": {},
   "source": [
    "### Splitting data into training  = 60% , test = 20%, validation = 20%"
   ]
  },
  {
   "cell_type": "code",
   "execution_count": 10,
   "metadata": {},
   "outputs": [],
   "source": [
    "\n",
    "features_train, test_features, target_train, test_target = train_test_split(features, target, test_size=0.40, random_state =42) ## train 60% test 40%\n",
    "features_valid, test_features,target_valid, test_target = train_test_split(test_features, test_target, test_size=0.50, random_state= 42) ## test 20%, valid 20%\n"
   ]
  },
  {
   "cell_type": "code",
   "execution_count": 11,
   "metadata": {},
   "outputs": [
    {
     "data": {
      "text/plain": [
       "(643, 4)"
      ]
     },
     "execution_count": 11,
     "metadata": {},
     "output_type": "execute_result"
    }
   ],
   "source": [
    "test_features.shape"
   ]
  },
  {
   "cell_type": "code",
   "execution_count": 12,
   "metadata": {},
   "outputs": [
    {
     "data": {
      "text/plain": [
       "(1928, 4)"
      ]
     },
     "execution_count": 12,
     "metadata": {},
     "output_type": "execute_result"
    }
   ],
   "source": [
    "features_train.shape"
   ]
  },
  {
   "cell_type": "code",
   "execution_count": 13,
   "metadata": {},
   "outputs": [
    {
     "data": {
      "text/plain": [
       "(643, 4)"
      ]
     },
     "execution_count": 13,
     "metadata": {},
     "output_type": "execute_result"
    }
   ],
   "source": [
    "features_valid.shape"
   ]
  },
  {
   "cell_type": "markdown",
   "metadata": {},
   "source": [
    "### Creating the model by Decision Tree Classifier"
   ]
  },
  {
   "cell_type": "code",
   "execution_count": 14,
   "metadata": {},
   "outputs": [
    {
     "data": {
      "text/plain": [
       "0.7262830482115086"
      ]
     },
     "execution_count": 14,
     "metadata": {},
     "output_type": "execute_result"
    }
   ],
   "source": [
    "# DecisionTreeClassifier\n",
    "model = DecisionTreeClassifier(random_state =12345) \n",
    " # initialize Decision Tree Classifier constructor with parameters random_state=54321\n",
    "model.fit(features_train, target_train)\n",
    "model.score(features_valid, target_valid)"
   ]
  },
  {
   "cell_type": "code",
   "execution_count": 16,
   "metadata": {},
   "outputs": [
    {
     "name": "stdout",
     "output_type": "stream",
     "text": [
      "max_depth = 1 : 0.7309486780715396\n",
      "max_depth = 2 : 0.7822706065318819\n",
      "max_depth = 3 : 0.7916018662519441\n",
      "max_depth = 4 : 0.7807153965785381\n",
      "max_depth = 5 : 0.7729393468118196\n",
      "max_depth = 6 : 0.776049766718507\n",
      "max_depth = 7 : 0.7807153965785381\n",
      "max_depth = 8 : 0.7947122861586314\n",
      "max_depth = 9 : 0.7791601866251944\n"
     ]
    }
   ],
   "source": [
    "# to increase accuracy of the model\n",
    "for depth in range(1, 10):\n",
    "    model= DecisionTreeClassifier(random_state=12345, max_depth=depth)\n",
    "    model.fit(features_train, target_train) # train model on training set\n",
    "    predictions_valid = model.predict(features_valid)\n",
    "    print('max_depth =',depth,':', end=' ') \n",
    "    print(accuracy_score(target_valid, predictions_valid))"
   ]
  },
  {
   "cell_type": "markdown",
   "metadata": {},
   "source": [
    "#### Utilizing hyperparameters can enhance the accuracy of a Decision Tree model. For instance, the max_depth parameter began at 0.72 and, after 10 trials, it increased to 0.77, indicating an improvement rather than a decrease."
   ]
  },
  {
   "cell_type": "markdown",
   "metadata": {},
   "source": [
    "### Creating the model by Random Forest Classifier"
   ]
  },
  {
   "cell_type": "code",
   "execution_count": 17,
   "metadata": {},
   "outputs": [
    {
     "data": {
      "text/plain": [
       "0.7947122861586314"
      ]
     },
     "execution_count": 17,
     "metadata": {},
     "output_type": "execute_result"
    }
   ],
   "source": [
    "# RandomForestClassifier\n",
    "model = RandomForestClassifier(random_state =54321) \n",
    "# initialize Random Forest Classifier constructor with parameters random_state=54321\n",
    "model.fit(features_train, target_train)\n",
    "target_pred = model.predict(features_valid)\n",
    "model.score(features_valid, target_valid)"
   ]
  },
  {
   "cell_type": "code",
   "execution_count": 18,
   "metadata": {},
   "outputs": [
    {
     "name": "stdout",
     "output_type": "stream",
     "text": [
      "Accuracy of the best model on the validation set (n_estimators = 8): 0.7869362363919129\n"
     ]
    }
   ],
   "source": [
    "best_score = 0\n",
    "best_est = 0\n",
    "for est in range(1, 10): # choose hyperparameter range\n",
    "    model = RandomForestClassifier(random_state=54321, n_estimators= est) # set number of trees\n",
    "    model.fit(features_train, target_train) # train model on training set\n",
    "    score = model.score(features_valid, target_valid) # calculate accuracy score on validation set\n",
    "    if score > best_score:\n",
    "        best_score = score # save best accuracy score on validation set\n",
    "        best_est = est # save number of estimators corresponding to best accuracy score\n",
    "\n",
    "print(\"Accuracy of the best model on the validation set (n_estimators = {}): {}\".format(best_est, best_score))"
   ]
  },
  {
   "cell_type": "markdown",
   "metadata": {},
   "source": [
    "### Creating the model by Logistic Regression "
   ]
  },
  {
   "cell_type": "code",
   "execution_count": 19,
   "metadata": {},
   "outputs": [
    {
     "name": "stdout",
     "output_type": "stream",
     "text": [
      "Accuracy of the logistic regression model on the training set: 0.7136929460580913\n",
      "Accuracy of the logistic regression model on the validation set: 0.7200622083981337\n"
     ]
    }
   ],
   "source": [
    "model =  LogisticRegression(random_state = 54321, solver='liblinear')# initialize logistic regression constructor with parameters random_state=54321 and solver='liblinear'\n",
    "model.fit(features_train, target_train)  # train model on training set\n",
    "score_train = model.score(features_train, target_train) # calculate accuracy score on training set\n",
    " \n",
    "score_valid = model.score(features_valid,target_valid) # calculate accuracy score on validation set\n",
    " \n",
    "\n",
    "print(\"Accuracy of the logistic regression model on the training set:\", score_train,)\n",
    "print( \"Accuracy of the logistic regression model on the validation set:\", score_valid,)"
   ]
  },
  {
   "cell_type": "markdown",
   "metadata": {},
   "source": [
    "#### In the logical Regression model we can see that validation model has more accuracy than training set. But we cannot consider this for our analysis as our accuracy threshold is .75."
   ]
  },
  {
   "cell_type": "markdown",
   "metadata": {},
   "source": [
    "### Upon examining three models, it is evident that the random forest model outperforms the decision tree model in accuracy. The random forest model achieved 0.79 accuracy, while the logistic regression model yielded 0.71 accuracy. Given that the accuracy threshold is set at 0.75, the random forest model should be considered."
   ]
  },
  {
   "cell_type": "code",
   "execution_count": 31,
   "metadata": {},
   "outputs": [
    {
     "data": {
      "text/plain": [
       "0.80248833592535"
      ]
     },
     "execution_count": 31,
     "metadata": {},
     "output_type": "execute_result"
    }
   ],
   "source": [
    "## apply the best model on test set\n",
    "final_model = RandomForestClassifier(random_state=54321, n_estimators= 8) \n",
    "final_model.fit(features_train, target_train)\n",
    "final_model.score(test_features, test_target)\n"
   ]
  },
  {
   "cell_type": "markdown",
   "metadata": {},
   "source": [
    "### In our previous analysis, the Random Forest Classifier emerged as the best model, showing a .76% accuracy rate on the validation set with hyperparameter of 8. However, upon applying the Random Forest Classifier to the final model, the accuracy is around .80 . Thus, this is the superior model by a significant margin."
   ]
  },
  {
   "cell_type": "markdown",
   "metadata": {},
   "source": [
    "## Conclusion:\n",
    "\n",
    "##### Initially, I observed that Ultra plan customers tend to use more call services, while Smart plan customers appear to be heavy internet users, as indicated by high data usage. My assumption is that Smart customers utilize the internet significantly more than Ultra customers. Therefore, I would like to develop a model that recommends the Ultra plan for those who prioritize internet usage.\n",
    "\n",
    "##### Upon examining three models, it is evident that the random forest model outperforms the decision tree model in accuracy. The random forest model achieved 0.79 accuracy, while the logistic regression model yielded 0.71 accuracy. Given that the accuracy threshold is set at 0.75, the random forest model should be considered. Also upon applying the Random Forest Classifier to the final model, the accuracy was 0.80 . Thus, this is the superior model by a significant margin.\n",
    "\n",
    "##### For Megaline mobile carrier customers seeking the best plan, it is recommended to assess individual needs such as data usage, coverage requirements, and budget constraints. Options may include unlimited data plans for heavy users, cost-effective multi-line plans for families, or budget-friendly prepaid plans for those looking to save on monthly expenses. It is advisable to compare the latest offerings from Megaline and consider customer reviews and network performance in your area to make an informed decision.\n"
   ]
  }
 ],
 "metadata": {
  "ExecuteTimeLog": [
   {
    "duration": 332,
    "start_time": "2024-11-13T16:07:02.456Z"
   },
   {
    "duration": 5,
    "start_time": "2024-11-13T16:13:29.454Z"
   },
   {
    "duration": 523,
    "start_time": "2024-11-13T16:13:48.563Z"
   },
   {
    "duration": 63,
    "start_time": "2024-11-13T16:14:44.962Z"
   },
   {
    "duration": 57,
    "start_time": "2024-11-13T16:14:57.891Z"
   },
   {
    "duration": 25,
    "start_time": "2024-11-13T16:16:03.481Z"
   },
   {
    "duration": 17,
    "start_time": "2024-11-13T16:16:33.559Z"
   },
   {
    "duration": 12,
    "start_time": "2024-11-13T16:18:16.278Z"
   },
   {
    "duration": 12,
    "start_time": "2024-11-13T16:18:35.828Z"
   },
   {
    "duration": 318,
    "start_time": "2024-11-13T16:18:43.683Z"
   },
   {
    "duration": 24,
    "start_time": "2024-11-13T16:18:44.003Z"
   },
   {
    "duration": 16,
    "start_time": "2024-11-13T16:18:44.029Z"
   },
   {
    "duration": 203,
    "start_time": "2024-11-13T16:18:44.047Z"
   },
   {
    "duration": 3,
    "start_time": "2024-11-13T16:19:04.468Z"
   },
   {
    "duration": 622,
    "start_time": "2024-11-13T21:27:14.247Z"
   },
   {
    "duration": 5,
    "start_time": "2024-11-13T21:31:08.326Z"
   },
   {
    "duration": 3,
    "start_time": "2024-11-13T21:31:17.031Z"
   },
   {
    "duration": 4,
    "start_time": "2024-11-13T21:31:28.796Z"
   },
   {
    "duration": 4,
    "start_time": "2024-11-13T21:31:31.215Z"
   },
   {
    "duration": 316,
    "start_time": "2024-11-13T21:31:43.563Z"
   },
   {
    "duration": 31,
    "start_time": "2024-11-13T21:31:43.881Z"
   },
   {
    "duration": 17,
    "start_time": "2024-11-13T21:31:43.913Z"
   },
   {
    "duration": 4,
    "start_time": "2024-11-13T21:31:43.932Z"
   },
   {
    "duration": 457,
    "start_time": "2024-11-13T21:31:43.937Z"
   },
   {
    "duration": 4,
    "start_time": "2024-11-13T21:31:44.396Z"
   },
   {
    "duration": 4,
    "start_time": "2024-11-13T21:32:01.160Z"
   },
   {
    "duration": 4,
    "start_time": "2024-11-13T21:32:12.124Z"
   },
   {
    "duration": 3,
    "start_time": "2024-11-13T21:32:26.559Z"
   },
   {
    "duration": 4,
    "start_time": "2024-11-13T21:32:33.719Z"
   },
   {
    "duration": 217,
    "start_time": "2024-11-13T21:32:42.073Z"
   },
   {
    "duration": 5,
    "start_time": "2024-11-13T21:34:15.020Z"
   },
   {
    "duration": 9,
    "start_time": "2024-11-13T21:34:22.151Z"
   },
   {
    "duration": 5,
    "start_time": "2024-11-13T21:38:30.068Z"
   },
   {
    "duration": 4,
    "start_time": "2024-11-13T21:38:32.408Z"
   },
   {
    "duration": 14,
    "start_time": "2024-11-13T21:41:24.502Z"
   },
   {
    "duration": 3,
    "start_time": "2024-11-13T21:41:31.353Z"
   },
   {
    "duration": 14,
    "start_time": "2024-11-13T21:41:33.444Z"
   },
   {
    "duration": 19,
    "start_time": "2024-11-13T21:52:29.451Z"
   },
   {
    "duration": 5,
    "start_time": "2024-11-13T21:52:35.211Z"
   },
   {
    "duration": 4,
    "start_time": "2024-11-13T21:52:43.859Z"
   },
   {
    "duration": 14,
    "start_time": "2024-11-13T21:52:58.719Z"
   },
   {
    "duration": 4,
    "start_time": "2024-11-13T21:53:20.580Z"
   },
   {
    "duration": 4,
    "start_time": "2024-11-13T21:53:21.733Z"
   },
   {
    "duration": 16,
    "start_time": "2024-11-13T21:53:22.847Z"
   },
   {
    "duration": 14,
    "start_time": "2024-11-13T21:53:25.172Z"
   },
   {
    "duration": 14,
    "start_time": "2024-11-13T21:53:27.086Z"
   },
   {
    "duration": 319,
    "start_time": "2024-11-13T21:53:43.945Z"
   },
   {
    "duration": 23,
    "start_time": "2024-11-13T21:53:44.267Z"
   },
   {
    "duration": 16,
    "start_time": "2024-11-13T21:53:44.291Z"
   },
   {
    "duration": 3,
    "start_time": "2024-11-13T21:53:44.309Z"
   },
   {
    "duration": 478,
    "start_time": "2024-11-13T21:53:44.314Z"
   },
   {
    "duration": 5,
    "start_time": "2024-11-13T21:53:44.794Z"
   },
   {
    "duration": 222,
    "start_time": "2024-11-13T21:53:44.800Z"
   },
   {
    "duration": 0,
    "start_time": "2024-11-13T21:53:45.024Z"
   },
   {
    "duration": 0,
    "start_time": "2024-11-13T21:53:45.025Z"
   },
   {
    "duration": 18,
    "start_time": "2024-11-13T21:54:25.304Z"
   },
   {
    "duration": 19,
    "start_time": "2024-11-13T21:55:27.255Z"
   },
   {
    "duration": 18,
    "start_time": "2024-11-13T21:55:45.622Z"
   },
   {
    "duration": 14,
    "start_time": "2024-11-13T21:57:15.732Z"
   },
   {
    "duration": 19,
    "start_time": "2024-11-13T21:58:33.055Z"
   },
   {
    "duration": 168,
    "start_time": "2024-11-14T16:16:44.091Z"
   },
   {
    "duration": 331,
    "start_time": "2024-11-14T16:16:52.534Z"
   },
   {
    "duration": 23,
    "start_time": "2024-11-14T16:16:52.867Z"
   },
   {
    "duration": 17,
    "start_time": "2024-11-14T16:16:52.891Z"
   },
   {
    "duration": 3,
    "start_time": "2024-11-14T16:16:52.910Z"
   },
   {
    "duration": 488,
    "start_time": "2024-11-14T16:16:52.915Z"
   },
   {
    "duration": 15,
    "start_time": "2024-11-14T16:16:53.405Z"
   },
   {
    "duration": 11,
    "start_time": "2024-11-14T16:16:53.422Z"
   },
   {
    "duration": 237,
    "start_time": "2024-11-14T16:16:53.435Z"
   },
   {
    "duration": 0,
    "start_time": "2024-11-14T16:16:53.674Z"
   },
   {
    "duration": 0,
    "start_time": "2024-11-14T16:16:53.675Z"
   },
   {
    "duration": 4,
    "start_time": "2024-11-14T16:19:21.478Z"
   },
   {
    "duration": 15,
    "start_time": "2024-11-14T16:19:23.264Z"
   },
   {
    "duration": 6,
    "start_time": "2024-11-14T16:19:52.227Z"
   },
   {
    "duration": 15,
    "start_time": "2024-11-14T16:19:55.556Z"
   },
   {
    "duration": 4,
    "start_time": "2024-11-14T16:20:08.243Z"
   },
   {
    "duration": 4,
    "start_time": "2024-11-14T16:20:10.361Z"
   },
   {
    "duration": 4,
    "start_time": "2024-11-14T16:20:11.922Z"
   },
   {
    "duration": 15,
    "start_time": "2024-11-14T16:23:23.678Z"
   },
   {
    "duration": 13,
    "start_time": "2024-11-14T16:23:29.828Z"
   },
   {
    "duration": 13,
    "start_time": "2024-11-14T16:23:49.703Z"
   },
   {
    "duration": 12,
    "start_time": "2024-11-14T16:34:01.778Z"
   },
   {
    "duration": 46,
    "start_time": "2024-11-14T16:35:36.431Z"
   },
   {
    "duration": 3,
    "start_time": "2024-11-14T16:36:02.196Z"
   },
   {
    "duration": 839,
    "start_time": "2024-11-14T16:36:07.097Z"
   },
   {
    "duration": 19,
    "start_time": "2024-11-14T16:36:07.938Z"
   },
   {
    "duration": 16,
    "start_time": "2024-11-14T16:36:07.959Z"
   },
   {
    "duration": 4,
    "start_time": "2024-11-14T16:36:07.986Z"
   },
   {
    "duration": 3,
    "start_time": "2024-11-14T16:36:07.992Z"
   },
   {
    "duration": 13,
    "start_time": "2024-11-14T16:36:07.996Z"
   },
   {
    "duration": 4,
    "start_time": "2024-11-14T16:36:08.011Z"
   },
   {
    "duration": 3,
    "start_time": "2024-11-14T16:36:08.018Z"
   },
   {
    "duration": 3,
    "start_time": "2024-11-14T16:36:08.024Z"
   },
   {
    "duration": 4,
    "start_time": "2024-11-14T16:36:08.029Z"
   },
   {
    "duration": 59,
    "start_time": "2024-11-14T16:36:08.035Z"
   },
   {
    "duration": 20,
    "start_time": "2024-11-14T16:37:23.799Z"
   },
   {
    "duration": 18,
    "start_time": "2024-11-14T16:39:38.076Z"
   },
   {
    "duration": 746,
    "start_time": "2024-11-14T16:41:46.573Z"
   },
   {
    "duration": 17,
    "start_time": "2024-11-14T16:41:47.321Z"
   },
   {
    "duration": 17,
    "start_time": "2024-11-14T16:41:47.340Z"
   },
   {
    "duration": 4,
    "start_time": "2024-11-14T16:41:47.358Z"
   },
   {
    "duration": 35,
    "start_time": "2024-11-14T16:41:47.365Z"
   },
   {
    "duration": 241,
    "start_time": "2024-11-14T16:41:47.402Z"
   },
   {
    "duration": 0,
    "start_time": "2024-11-14T16:41:47.645Z"
   },
   {
    "duration": 0,
    "start_time": "2024-11-14T16:41:47.646Z"
   },
   {
    "duration": 0,
    "start_time": "2024-11-14T16:41:47.647Z"
   },
   {
    "duration": 0,
    "start_time": "2024-11-14T16:41:47.648Z"
   },
   {
    "duration": 0,
    "start_time": "2024-11-14T16:41:47.649Z"
   },
   {
    "duration": 4,
    "start_time": "2024-11-14T16:42:13.847Z"
   },
   {
    "duration": 19,
    "start_time": "2024-11-14T16:42:15.575Z"
   },
   {
    "duration": 3,
    "start_time": "2024-11-14T16:42:17.514Z"
   },
   {
    "duration": 4,
    "start_time": "2024-11-14T16:42:19.191Z"
   },
   {
    "duration": 4,
    "start_time": "2024-11-14T16:42:20.205Z"
   },
   {
    "duration": 4,
    "start_time": "2024-11-14T16:42:21.327Z"
   },
   {
    "duration": 4,
    "start_time": "2024-11-14T16:46:23.787Z"
   },
   {
    "duration": 14,
    "start_time": "2024-11-14T16:46:25.202Z"
   },
   {
    "duration": 7,
    "start_time": "2024-11-14T16:46:25.832Z"
   },
   {
    "duration": 19,
    "start_time": "2024-11-14T16:46:27.378Z"
   },
   {
    "duration": 8,
    "start_time": "2024-11-14T16:46:29.584Z"
   },
   {
    "duration": 5,
    "start_time": "2024-11-14T16:46:30.594Z"
   },
   {
    "duration": 13,
    "start_time": "2024-11-14T16:46:37.530Z"
   },
   {
    "duration": 3,
    "start_time": "2024-11-14T16:46:46.491Z"
   },
   {
    "duration": 5,
    "start_time": "2024-11-14T16:47:18.723Z"
   },
   {
    "duration": 4,
    "start_time": "2024-11-14T16:55:49.466Z"
   },
   {
    "duration": 4,
    "start_time": "2024-11-14T16:55:55.816Z"
   },
   {
    "duration": 3,
    "start_time": "2024-11-14T16:56:06.706Z"
   },
   {
    "duration": 3,
    "start_time": "2024-11-14T16:56:12.997Z"
   },
   {
    "duration": 4,
    "start_time": "2024-11-14T16:57:15.603Z"
   },
   {
    "duration": 785,
    "start_time": "2024-11-14T16:57:42.331Z"
   },
   {
    "duration": 30,
    "start_time": "2024-11-14T16:57:43.121Z"
   },
   {
    "duration": 24,
    "start_time": "2024-11-14T16:57:43.153Z"
   },
   {
    "duration": 9,
    "start_time": "2024-11-14T16:57:43.181Z"
   },
   {
    "duration": 17,
    "start_time": "2024-11-14T16:57:43.192Z"
   },
   {
    "duration": 4,
    "start_time": "2024-11-14T16:57:43.211Z"
   },
   {
    "duration": 19,
    "start_time": "2024-11-14T16:57:43.217Z"
   },
   {
    "duration": 6,
    "start_time": "2024-11-14T16:57:43.238Z"
   },
   {
    "duration": 3,
    "start_time": "2024-11-14T16:57:43.246Z"
   },
   {
    "duration": 5,
    "start_time": "2024-11-14T16:57:43.252Z"
   },
   {
    "duration": 3,
    "start_time": "2024-11-14T16:57:43.288Z"
   },
   {
    "duration": 2,
    "start_time": "2024-11-14T16:57:43.293Z"
   },
   {
    "duration": 4,
    "start_time": "2024-11-14T16:57:43.297Z"
   },
   {
    "duration": 4,
    "start_time": "2024-11-14T16:57:43.303Z"
   },
   {
    "duration": 5,
    "start_time": "2024-11-14T16:57:43.308Z"
   },
   {
    "duration": 3,
    "start_time": "2024-11-14T17:16:22.820Z"
   },
   {
    "duration": 13,
    "start_time": "2024-11-14T17:16:46.434Z"
   },
   {
    "duration": 4,
    "start_time": "2024-11-14T17:17:45.821Z"
   },
   {
    "duration": 794,
    "start_time": "2024-11-14T17:18:05.331Z"
   },
   {
    "duration": 19,
    "start_time": "2024-11-14T17:18:06.127Z"
   },
   {
    "duration": 16,
    "start_time": "2024-11-14T17:18:06.148Z"
   },
   {
    "duration": 4,
    "start_time": "2024-11-14T17:18:06.165Z"
   },
   {
    "duration": 13,
    "start_time": "2024-11-14T17:18:06.186Z"
   },
   {
    "duration": 4,
    "start_time": "2024-11-14T17:18:06.201Z"
   },
   {
    "duration": 18,
    "start_time": "2024-11-14T17:18:06.207Z"
   },
   {
    "duration": 6,
    "start_time": "2024-11-14T17:18:06.227Z"
   },
   {
    "duration": 5,
    "start_time": "2024-11-14T17:18:06.235Z"
   },
   {
    "duration": 5,
    "start_time": "2024-11-14T17:18:06.241Z"
   },
   {
    "duration": 4,
    "start_time": "2024-11-14T17:18:06.248Z"
   },
   {
    "duration": 3,
    "start_time": "2024-11-14T17:18:06.287Z"
   },
   {
    "duration": 5,
    "start_time": "2024-11-14T17:18:06.292Z"
   },
   {
    "duration": 3,
    "start_time": "2024-11-14T17:18:06.300Z"
   },
   {
    "duration": 3,
    "start_time": "2024-11-14T17:18:06.305Z"
   },
   {
    "duration": 9,
    "start_time": "2024-11-14T17:59:49.726Z"
   },
   {
    "duration": 222,
    "start_time": "2024-11-14T18:00:14.355Z"
   },
   {
    "duration": 7,
    "start_time": "2024-11-14T18:00:20.395Z"
   },
   {
    "duration": 5,
    "start_time": "2024-11-14T18:12:18.556Z"
   },
   {
    "duration": 5,
    "start_time": "2024-11-14T18:12:45.524Z"
   },
   {
    "duration": 2037,
    "start_time": "2024-11-14T18:12:52.204Z"
   },
   {
    "duration": 1189,
    "start_time": "2024-11-14T18:13:00.346Z"
   },
   {
    "duration": 0,
    "start_time": "2024-11-14T18:13:01.537Z"
   },
   {
    "duration": 0,
    "start_time": "2024-11-14T18:13:01.539Z"
   },
   {
    "duration": 0,
    "start_time": "2024-11-14T18:13:01.541Z"
   },
   {
    "duration": 0,
    "start_time": "2024-11-14T18:13:01.542Z"
   },
   {
    "duration": 0,
    "start_time": "2024-11-14T18:13:01.544Z"
   },
   {
    "duration": 0,
    "start_time": "2024-11-14T18:13:01.545Z"
   },
   {
    "duration": 0,
    "start_time": "2024-11-14T18:13:01.547Z"
   },
   {
    "duration": 0,
    "start_time": "2024-11-14T18:13:01.548Z"
   },
   {
    "duration": 1,
    "start_time": "2024-11-14T18:13:01.549Z"
   },
   {
    "duration": 0,
    "start_time": "2024-11-14T18:13:01.550Z"
   },
   {
    "duration": 0,
    "start_time": "2024-11-14T18:13:01.552Z"
   },
   {
    "duration": 0,
    "start_time": "2024-11-14T18:13:01.552Z"
   },
   {
    "duration": 0,
    "start_time": "2024-11-14T18:13:01.554Z"
   },
   {
    "duration": 0,
    "start_time": "2024-11-14T18:13:01.556Z"
   },
   {
    "duration": 0,
    "start_time": "2024-11-14T18:13:01.557Z"
   },
   {
    "duration": 18,
    "start_time": "2024-11-14T18:13:19.217Z"
   },
   {
    "duration": 20,
    "start_time": "2024-11-14T18:14:37.318Z"
   },
   {
    "duration": 4,
    "start_time": "2024-11-14T18:15:02.401Z"
   },
   {
    "duration": 4,
    "start_time": "2024-11-14T18:15:15.437Z"
   },
   {
    "duration": 4,
    "start_time": "2024-11-14T18:15:22.354Z"
   },
   {
    "duration": 15,
    "start_time": "2024-11-14T18:15:28.190Z"
   },
   {
    "duration": 4,
    "start_time": "2024-11-14T18:15:37.233Z"
   },
   {
    "duration": 4,
    "start_time": "2024-11-14T18:15:41.406Z"
   },
   {
    "duration": 14,
    "start_time": "2024-11-14T18:25:38.321Z"
   },
   {
    "duration": 885,
    "start_time": "2024-11-14T18:25:44.228Z"
   },
   {
    "duration": 64,
    "start_time": "2024-11-14T18:25:45.116Z"
   },
   {
    "duration": 16,
    "start_time": "2024-11-14T18:25:45.186Z"
   },
   {
    "duration": 4,
    "start_time": "2024-11-14T18:25:45.204Z"
   },
   {
    "duration": 8,
    "start_time": "2024-11-14T18:25:45.211Z"
   },
   {
    "duration": 5,
    "start_time": "2024-11-14T18:25:45.220Z"
   },
   {
    "duration": 649,
    "start_time": "2024-11-14T18:25:45.227Z"
   },
   {
    "duration": 0,
    "start_time": "2024-11-14T18:25:45.878Z"
   },
   {
    "duration": 0,
    "start_time": "2024-11-14T18:25:45.880Z"
   },
   {
    "duration": 0,
    "start_time": "2024-11-14T18:25:45.881Z"
   },
   {
    "duration": 0,
    "start_time": "2024-11-14T18:25:45.886Z"
   },
   {
    "duration": 0,
    "start_time": "2024-11-14T18:25:45.887Z"
   },
   {
    "duration": 0,
    "start_time": "2024-11-14T18:25:45.888Z"
   },
   {
    "duration": 0,
    "start_time": "2024-11-14T18:25:45.889Z"
   },
   {
    "duration": 0,
    "start_time": "2024-11-14T18:25:45.890Z"
   },
   {
    "duration": 0,
    "start_time": "2024-11-14T18:25:45.891Z"
   },
   {
    "duration": 0,
    "start_time": "2024-11-14T18:25:45.892Z"
   },
   {
    "duration": 41,
    "start_time": "2024-11-14T18:26:07.594Z"
   },
   {
    "duration": 45,
    "start_time": "2024-11-14T18:26:49.896Z"
   },
   {
    "duration": 40,
    "start_time": "2024-11-14T18:27:41.646Z"
   },
   {
    "duration": 43,
    "start_time": "2024-11-14T18:28:52.378Z"
   },
   {
    "duration": 17,
    "start_time": "2024-11-14T18:29:16.489Z"
   },
   {
    "duration": 5,
    "start_time": "2024-11-14T18:29:18.974Z"
   },
   {
    "duration": 893,
    "start_time": "2024-11-14T18:36:11.536Z"
   },
   {
    "duration": 78,
    "start_time": "2024-11-14T18:36:12.432Z"
   },
   {
    "duration": 18,
    "start_time": "2024-11-14T18:36:12.512Z"
   },
   {
    "duration": 3,
    "start_time": "2024-11-14T18:36:12.532Z"
   },
   {
    "duration": 8,
    "start_time": "2024-11-14T18:36:12.536Z"
   },
   {
    "duration": 6,
    "start_time": "2024-11-14T18:36:12.546Z"
   },
   {
    "duration": 46,
    "start_time": "2024-11-14T18:36:12.553Z"
   },
   {
    "duration": 5,
    "start_time": "2024-11-14T18:36:12.601Z"
   },
   {
    "duration": 5,
    "start_time": "2024-11-14T18:36:12.607Z"
   },
   {
    "duration": 7,
    "start_time": "2024-11-14T18:36:12.616Z"
   },
   {
    "duration": 14,
    "start_time": "2024-11-14T18:36:12.624Z"
   },
   {
    "duration": 258,
    "start_time": "2024-11-14T18:36:12.639Z"
   },
   {
    "duration": 0,
    "start_time": "2024-11-14T18:36:12.899Z"
   },
   {
    "duration": 0,
    "start_time": "2024-11-14T18:36:12.900Z"
   },
   {
    "duration": 0,
    "start_time": "2024-11-14T18:36:12.901Z"
   },
   {
    "duration": 0,
    "start_time": "2024-11-14T18:36:12.902Z"
   },
   {
    "duration": 0,
    "start_time": "2024-11-14T18:36:12.903Z"
   },
   {
    "duration": 3,
    "start_time": "2024-11-14T18:36:41.908Z"
   },
   {
    "duration": 5,
    "start_time": "2024-11-14T18:36:45.075Z"
   },
   {
    "duration": 3,
    "start_time": "2024-11-14T18:36:46.442Z"
   },
   {
    "duration": 4,
    "start_time": "2024-11-14T18:36:48.091Z"
   },
   {
    "duration": 18,
    "start_time": "2024-11-14T18:36:49.525Z"
   },
   {
    "duration": 898,
    "start_time": "2024-11-14T18:37:27.688Z"
   },
   {
    "duration": 60,
    "start_time": "2024-11-14T18:37:28.588Z"
   },
   {
    "duration": 18,
    "start_time": "2024-11-14T18:37:28.651Z"
   },
   {
    "duration": 17,
    "start_time": "2024-11-14T18:37:28.671Z"
   },
   {
    "duration": 8,
    "start_time": "2024-11-14T18:37:28.690Z"
   },
   {
    "duration": 5,
    "start_time": "2024-11-14T18:37:28.699Z"
   },
   {
    "duration": 14,
    "start_time": "2024-11-14T18:37:28.706Z"
   },
   {
    "duration": 5,
    "start_time": "2024-11-14T18:37:28.721Z"
   },
   {
    "duration": 4,
    "start_time": "2024-11-14T18:37:28.728Z"
   },
   {
    "duration": 55,
    "start_time": "2024-11-14T18:37:28.735Z"
   },
   {
    "duration": 4,
    "start_time": "2024-11-14T18:37:28.792Z"
   },
   {
    "duration": 3,
    "start_time": "2024-11-14T18:37:28.798Z"
   },
   {
    "duration": 4,
    "start_time": "2024-11-14T18:37:28.803Z"
   },
   {
    "duration": 3,
    "start_time": "2024-11-14T18:37:28.809Z"
   },
   {
    "duration": 4,
    "start_time": "2024-11-14T18:37:28.814Z"
   },
   {
    "duration": 17,
    "start_time": "2024-11-14T18:39:26.374Z"
   },
   {
    "duration": 477,
    "start_time": "2024-11-14T18:42:37.683Z"
   },
   {
    "duration": 893,
    "start_time": "2024-11-14T18:47:50.021Z"
   },
   {
    "duration": 64,
    "start_time": "2024-11-14T18:47:50.916Z"
   },
   {
    "duration": 17,
    "start_time": "2024-11-14T18:47:50.988Z"
   },
   {
    "duration": 3,
    "start_time": "2024-11-14T18:47:51.008Z"
   },
   {
    "duration": 9,
    "start_time": "2024-11-14T18:47:51.013Z"
   },
   {
    "duration": 5,
    "start_time": "2024-11-14T18:47:51.024Z"
   },
   {
    "duration": 12,
    "start_time": "2024-11-14T18:47:51.031Z"
   },
   {
    "duration": 4,
    "start_time": "2024-11-14T18:47:51.087Z"
   },
   {
    "duration": 5,
    "start_time": "2024-11-14T18:47:51.093Z"
   },
   {
    "duration": 7,
    "start_time": "2024-11-14T18:47:51.101Z"
   },
   {
    "duration": 11,
    "start_time": "2024-11-14T18:47:51.110Z"
   },
   {
    "duration": 4,
    "start_time": "2024-11-14T18:47:51.123Z"
   },
   {
    "duration": 3,
    "start_time": "2024-11-14T18:47:51.129Z"
   },
   {
    "duration": 4,
    "start_time": "2024-11-14T18:47:51.134Z"
   },
   {
    "duration": 58,
    "start_time": "2024-11-14T18:47:51.140Z"
   },
   {
    "duration": 416,
    "start_time": "2024-11-14T18:47:51.200Z"
   },
   {
    "duration": 239,
    "start_time": "2024-11-14T18:56:33.994Z"
   },
   {
    "duration": 26,
    "start_time": "2024-11-14T18:56:53.006Z"
   },
   {
    "duration": 18,
    "start_time": "2024-11-14T18:57:17.902Z"
   },
   {
    "duration": 22,
    "start_time": "2024-11-14T18:58:05.777Z"
   },
   {
    "duration": 20,
    "start_time": "2024-11-14T18:58:12.999Z"
   },
   {
    "duration": 20,
    "start_time": "2024-11-14T18:58:19.774Z"
   },
   {
    "duration": 25,
    "start_time": "2024-11-14T18:58:28.644Z"
   },
   {
    "duration": 21,
    "start_time": "2024-11-14T18:58:36.929Z"
   },
   {
    "duration": 21,
    "start_time": "2024-11-14T18:59:31.954Z"
   },
   {
    "duration": 157,
    "start_time": "2024-11-14T21:58:42.707Z"
   },
   {
    "duration": 13,
    "start_time": "2024-11-14T21:59:17.296Z"
   },
   {
    "duration": 12,
    "start_time": "2024-11-14T21:59:19.788Z"
   },
   {
    "duration": 2702,
    "start_time": "2024-11-14T21:59:26.291Z"
   },
   {
    "duration": 24,
    "start_time": "2024-11-14T21:59:28.996Z"
   },
   {
    "duration": 17,
    "start_time": "2024-11-14T21:59:29.021Z"
   },
   {
    "duration": 3,
    "start_time": "2024-11-14T21:59:29.040Z"
   },
   {
    "duration": 26,
    "start_time": "2024-11-14T21:59:29.045Z"
   },
   {
    "duration": 5,
    "start_time": "2024-11-14T21:59:29.072Z"
   },
   {
    "duration": 13,
    "start_time": "2024-11-14T21:59:29.079Z"
   },
   {
    "duration": 4,
    "start_time": "2024-11-14T21:59:29.094Z"
   },
   {
    "duration": 4,
    "start_time": "2024-11-14T21:59:29.100Z"
   },
   {
    "duration": 6,
    "start_time": "2024-11-14T21:59:29.107Z"
   },
   {
    "duration": 4,
    "start_time": "2024-11-14T21:59:29.115Z"
   },
   {
    "duration": 4,
    "start_time": "2024-11-14T21:59:29.120Z"
   },
   {
    "duration": 45,
    "start_time": "2024-11-14T21:59:29.126Z"
   },
   {
    "duration": 4,
    "start_time": "2024-11-14T21:59:29.173Z"
   },
   {
    "duration": 18,
    "start_time": "2024-11-14T21:59:29.179Z"
   },
   {
    "duration": 424,
    "start_time": "2024-11-14T21:59:29.198Z"
   },
   {
    "duration": 1879,
    "start_time": "2024-11-14T21:59:29.624Z"
   },
   {
    "duration": 1890,
    "start_time": "2024-11-14T22:01:07.053Z"
   },
   {
    "duration": 1908,
    "start_time": "2024-11-14T22:02:08.318Z"
   },
   {
    "duration": 1935,
    "start_time": "2024-11-14T22:02:37.482Z"
   },
   {
    "duration": 1969,
    "start_time": "2024-11-14T22:02:45.215Z"
   },
   {
    "duration": 1913,
    "start_time": "2024-11-14T22:02:53.099Z"
   },
   {
    "duration": 1936,
    "start_time": "2024-11-14T22:03:29.922Z"
   },
   {
    "duration": 64,
    "start_time": "2024-11-14T22:03:49.391Z"
   },
   {
    "duration": 62,
    "start_time": "2024-11-14T22:06:02.561Z"
   },
   {
    "duration": 17,
    "start_time": "2024-11-14T22:06:06.998Z"
   },
   {
    "duration": 2956,
    "start_time": "2024-11-15T15:54:57.597Z"
   },
   {
    "duration": 29,
    "start_time": "2024-11-15T15:55:00.555Z"
   },
   {
    "duration": 17,
    "start_time": "2024-11-15T15:55:00.586Z"
   },
   {
    "duration": 4,
    "start_time": "2024-11-15T15:55:00.605Z"
   },
   {
    "duration": 9,
    "start_time": "2024-11-15T15:55:00.611Z"
   },
   {
    "duration": 6,
    "start_time": "2024-11-15T15:55:00.632Z"
   },
   {
    "duration": 15,
    "start_time": "2024-11-15T15:55:00.639Z"
   },
   {
    "duration": 5,
    "start_time": "2024-11-15T15:55:00.656Z"
   },
   {
    "duration": 5,
    "start_time": "2024-11-15T15:55:00.663Z"
   },
   {
    "duration": 10,
    "start_time": "2024-11-15T15:55:00.669Z"
   },
   {
    "duration": 5,
    "start_time": "2024-11-15T15:55:00.681Z"
   },
   {
    "duration": 5,
    "start_time": "2024-11-15T15:55:00.688Z"
   },
   {
    "duration": 40,
    "start_time": "2024-11-15T15:55:00.694Z"
   },
   {
    "duration": 4,
    "start_time": "2024-11-15T15:55:00.739Z"
   },
   {
    "duration": 376,
    "start_time": "2024-11-15T15:55:00.745Z"
   },
   {
    "duration": 0,
    "start_time": "2024-11-15T15:55:01.123Z"
   },
   {
    "duration": 0,
    "start_time": "2024-11-15T15:55:01.131Z"
   },
   {
    "duration": 0,
    "start_time": "2024-11-15T15:55:01.133Z"
   },
   {
    "duration": 43,
    "start_time": "2024-11-15T15:56:13.988Z"
   },
   {
    "duration": 4,
    "start_time": "2024-11-15T15:56:23.560Z"
   },
   {
    "duration": 4,
    "start_time": "2024-11-15T15:56:25.393Z"
   },
   {
    "duration": 55,
    "start_time": "2024-11-15T15:56:27.244Z"
   },
   {
    "duration": 57,
    "start_time": "2024-11-15T15:56:29.827Z"
   },
   {
    "duration": 79,
    "start_time": "2024-11-15T15:56:36.165Z"
   },
   {
    "duration": 48,
    "start_time": "2024-11-15T15:56:39.032Z"
   },
   {
    "duration": 17,
    "start_time": "2024-11-15T15:59:37.939Z"
   },
   {
    "duration": 5,
    "start_time": "2024-11-15T15:59:40.084Z"
   },
   {
    "duration": 4,
    "start_time": "2024-11-15T15:59:42.210Z"
   },
   {
    "duration": 8,
    "start_time": "2024-11-15T15:59:43.825Z"
   },
   {
    "duration": 6,
    "start_time": "2024-11-15T15:59:45.555Z"
   },
   {
    "duration": 5,
    "start_time": "2024-11-15T15:59:46.503Z"
   },
   {
    "duration": 4,
    "start_time": "2024-11-15T15:59:47.256Z"
   },
   {
    "duration": 4,
    "start_time": "2024-11-15T15:59:48.158Z"
   },
   {
    "duration": 44,
    "start_time": "2024-11-15T15:59:49.596Z"
   },
   {
    "duration": 45,
    "start_time": "2024-11-15T15:59:52.618Z"
   },
   {
    "duration": 34,
    "start_time": "2024-11-15T15:59:55.052Z"
   },
   {
    "duration": 50,
    "start_time": "2024-11-15T15:59:57.432Z"
   },
   {
    "duration": 936,
    "start_time": "2024-11-15T16:00:12.495Z"
   },
   {
    "duration": 78,
    "start_time": "2024-11-15T16:00:13.434Z"
   },
   {
    "duration": 30,
    "start_time": "2024-11-15T16:00:13.514Z"
   },
   {
    "duration": 3,
    "start_time": "2024-11-15T16:00:13.547Z"
   },
   {
    "duration": 10,
    "start_time": "2024-11-15T16:00:13.552Z"
   },
   {
    "duration": 6,
    "start_time": "2024-11-15T16:00:13.564Z"
   },
   {
    "duration": 15,
    "start_time": "2024-11-15T16:00:13.572Z"
   },
   {
    "duration": 43,
    "start_time": "2024-11-15T16:00:13.589Z"
   },
   {
    "duration": 6,
    "start_time": "2024-11-15T16:00:13.635Z"
   },
   {
    "duration": 9,
    "start_time": "2024-11-15T16:00:13.642Z"
   },
   {
    "duration": 5,
    "start_time": "2024-11-15T16:00:13.653Z"
   },
   {
    "duration": 4,
    "start_time": "2024-11-15T16:00:13.660Z"
   },
   {
    "duration": 5,
    "start_time": "2024-11-15T16:00:13.666Z"
   },
   {
    "duration": 4,
    "start_time": "2024-11-15T16:00:13.674Z"
   },
   {
    "duration": 340,
    "start_time": "2024-11-15T16:00:13.680Z"
   },
   {
    "duration": 0,
    "start_time": "2024-11-15T16:00:14.022Z"
   },
   {
    "duration": 0,
    "start_time": "2024-11-15T16:00:14.023Z"
   },
   {
    "duration": 0,
    "start_time": "2024-11-15T16:00:14.025Z"
   },
   {
    "duration": 1032,
    "start_time": "2024-11-15T16:13:48.103Z"
   },
   {
    "duration": 88,
    "start_time": "2024-11-15T16:13:49.137Z"
   },
   {
    "duration": 20,
    "start_time": "2024-11-15T16:13:49.230Z"
   },
   {
    "duration": 4,
    "start_time": "2024-11-15T16:13:49.252Z"
   },
   {
    "duration": 8,
    "start_time": "2024-11-15T16:13:49.260Z"
   },
   {
    "duration": 6,
    "start_time": "2024-11-15T16:13:49.271Z"
   },
   {
    "duration": 14,
    "start_time": "2024-11-15T16:13:49.279Z"
   },
   {
    "duration": 38,
    "start_time": "2024-11-15T16:13:49.294Z"
   },
   {
    "duration": 6,
    "start_time": "2024-11-15T16:13:49.334Z"
   },
   {
    "duration": 7,
    "start_time": "2024-11-15T16:13:49.342Z"
   },
   {
    "duration": 5,
    "start_time": "2024-11-15T16:13:49.351Z"
   },
   {
    "duration": 5,
    "start_time": "2024-11-15T16:13:49.357Z"
   },
   {
    "duration": 4,
    "start_time": "2024-11-15T16:13:49.363Z"
   },
   {
    "duration": 3,
    "start_time": "2024-11-15T16:13:49.371Z"
   },
   {
    "duration": 61,
    "start_time": "2024-11-15T16:13:49.376Z"
   },
   {
    "duration": 68,
    "start_time": "2024-11-15T16:13:49.438Z"
   },
   {
    "duration": 434,
    "start_time": "2024-11-15T16:13:49.508Z"
   },
   {
    "duration": 1981,
    "start_time": "2024-11-15T16:13:49.945Z"
   },
   {
    "duration": 157,
    "start_time": "2024-11-15T18:02:55.493Z"
   },
   {
    "duration": 2584,
    "start_time": "2024-11-15T18:03:05.961Z"
   },
   {
    "duration": 18,
    "start_time": "2024-11-15T18:03:08.547Z"
   },
   {
    "duration": 26,
    "start_time": "2024-11-15T18:03:08.567Z"
   },
   {
    "duration": 4,
    "start_time": "2024-11-15T18:03:08.595Z"
   },
   {
    "duration": 9,
    "start_time": "2024-11-15T18:03:08.600Z"
   },
   {
    "duration": 5,
    "start_time": "2024-11-15T18:03:08.611Z"
   },
   {
    "duration": 13,
    "start_time": "2024-11-15T18:03:08.618Z"
   },
   {
    "duration": 4,
    "start_time": "2024-11-15T18:03:08.633Z"
   },
   {
    "duration": 4,
    "start_time": "2024-11-15T18:03:08.639Z"
   },
   {
    "duration": 6,
    "start_time": "2024-11-15T18:03:08.686Z"
   },
   {
    "duration": 4,
    "start_time": "2024-11-15T18:03:08.694Z"
   },
   {
    "duration": 4,
    "start_time": "2024-11-15T18:03:08.700Z"
   },
   {
    "duration": 4,
    "start_time": "2024-11-15T18:03:08.705Z"
   },
   {
    "duration": 3,
    "start_time": "2024-11-15T18:03:08.711Z"
   },
   {
    "duration": 17,
    "start_time": "2024-11-15T18:03:08.716Z"
   },
   {
    "duration": 108,
    "start_time": "2024-11-15T18:03:08.734Z"
   },
   {
    "duration": 412,
    "start_time": "2024-11-15T18:03:08.844Z"
   },
   {
    "duration": 2278,
    "start_time": "2024-11-15T18:03:09.258Z"
   },
   {
    "duration": 15,
    "start_time": "2024-11-15T18:06:57.158Z"
   },
   {
    "duration": 4,
    "start_time": "2024-11-15T18:08:36.506Z"
   },
   {
    "duration": 5,
    "start_time": "2024-11-15T18:09:30.247Z"
   },
   {
    "duration": 5,
    "start_time": "2024-11-15T18:11:40.551Z"
   },
   {
    "duration": 4,
    "start_time": "2024-11-15T18:11:41.511Z"
   },
   {
    "duration": 4,
    "start_time": "2024-11-15T18:12:30.179Z"
   },
   {
    "duration": 358,
    "start_time": "2024-11-15T18:13:11.551Z"
   },
   {
    "duration": 81,
    "start_time": "2024-11-15T18:13:41.263Z"
   },
   {
    "duration": 85,
    "start_time": "2024-11-15T18:14:22.175Z"
   },
   {
    "duration": 36,
    "start_time": "2024-11-15T18:14:55.671Z"
   },
   {
    "duration": 42,
    "start_time": "2024-11-15T18:15:24.314Z"
   },
   {
    "duration": 403,
    "start_time": "2024-11-15T18:19:58.857Z"
   },
   {
    "duration": 290,
    "start_time": "2024-11-15T18:20:00.798Z"
   },
   {
    "duration": 292,
    "start_time": "2024-11-15T18:20:33.124Z"
   },
   {
    "duration": 300,
    "start_time": "2024-11-15T18:20:43.799Z"
   },
   {
    "duration": 252,
    "start_time": "2024-11-15T18:21:07.390Z"
   },
   {
    "duration": 44,
    "start_time": "2024-11-15T18:21:08.909Z"
   },
   {
    "duration": 875,
    "start_time": "2024-11-15T18:29:40.666Z"
   },
   {
    "duration": 69,
    "start_time": "2024-11-15T18:29:41.543Z"
   },
   {
    "duration": 18,
    "start_time": "2024-11-15T18:29:41.614Z"
   },
   {
    "duration": 3,
    "start_time": "2024-11-15T18:29:41.634Z"
   },
   {
    "duration": 8,
    "start_time": "2024-11-15T18:29:41.639Z"
   },
   {
    "duration": 4,
    "start_time": "2024-11-15T18:29:41.649Z"
   },
   {
    "duration": 41,
    "start_time": "2024-11-15T18:29:41.655Z"
   },
   {
    "duration": 5,
    "start_time": "2024-11-15T18:29:41.698Z"
   },
   {
    "duration": 4,
    "start_time": "2024-11-15T18:29:41.705Z"
   },
   {
    "duration": 7,
    "start_time": "2024-11-15T18:29:41.712Z"
   },
   {
    "duration": 4,
    "start_time": "2024-11-15T18:29:41.720Z"
   },
   {
    "duration": 4,
    "start_time": "2024-11-15T18:29:41.725Z"
   },
   {
    "duration": 4,
    "start_time": "2024-11-15T18:29:41.731Z"
   },
   {
    "duration": 3,
    "start_time": "2024-11-15T18:29:41.737Z"
   },
   {
    "duration": 56,
    "start_time": "2024-11-15T18:29:41.742Z"
   },
   {
    "duration": 5,
    "start_time": "2024-11-15T18:29:41.800Z"
   },
   {
    "duration": 0,
    "start_time": "2024-11-15T18:29:41.806Z"
   },
   {
    "duration": 0,
    "start_time": "2024-11-15T18:29:41.808Z"
   },
   {
    "duration": 1,
    "start_time": "2024-11-15T18:29:41.808Z"
   },
   {
    "duration": 77,
    "start_time": "2024-11-15T18:29:53.641Z"
   },
   {
    "duration": 66,
    "start_time": "2024-11-15T18:30:11.955Z"
   },
   {
    "duration": 405,
    "start_time": "2024-11-15T18:30:34.411Z"
   },
   {
    "duration": 250,
    "start_time": "2024-11-15T18:30:35.661Z"
   },
   {
    "duration": 46,
    "start_time": "2024-11-15T18:30:37.799Z"
   },
   {
    "duration": 74,
    "start_time": "2024-11-15T18:31:02.446Z"
   },
   {
    "duration": 74,
    "start_time": "2024-11-15T18:33:00.474Z"
   },
   {
    "duration": 66,
    "start_time": "2024-11-15T18:33:51.744Z"
   },
   {
    "duration": 67,
    "start_time": "2024-11-15T18:34:18.137Z"
   },
   {
    "duration": 66,
    "start_time": "2024-11-15T18:34:28.663Z"
   },
   {
    "duration": 45,
    "start_time": "2024-11-15T18:40:48.879Z"
   },
   {
    "duration": 401,
    "start_time": "2024-11-15T18:41:14.953Z"
   },
   {
    "duration": 251,
    "start_time": "2024-11-15T18:41:17.252Z"
   },
   {
    "duration": 45,
    "start_time": "2024-11-15T18:41:19.503Z"
   },
   {
    "duration": 4,
    "start_time": "2024-11-15T18:44:01.443Z"
   },
   {
    "duration": 4,
    "start_time": "2024-11-15T18:44:02.494Z"
   },
   {
    "duration": 4,
    "start_time": "2024-11-15T18:44:04.164Z"
   },
   {
    "duration": 887,
    "start_time": "2024-11-15T18:44:50.592Z"
   },
   {
    "duration": 71,
    "start_time": "2024-11-15T18:44:51.482Z"
   },
   {
    "duration": 17,
    "start_time": "2024-11-15T18:44:51.554Z"
   },
   {
    "duration": 15,
    "start_time": "2024-11-15T18:44:51.573Z"
   },
   {
    "duration": 8,
    "start_time": "2024-11-15T18:44:51.592Z"
   },
   {
    "duration": 5,
    "start_time": "2024-11-15T18:44:51.601Z"
   },
   {
    "duration": 14,
    "start_time": "2024-11-15T18:44:51.608Z"
   },
   {
    "duration": 5,
    "start_time": "2024-11-15T18:44:51.623Z"
   },
   {
    "duration": 4,
    "start_time": "2024-11-15T18:44:51.630Z"
   },
   {
    "duration": 9,
    "start_time": "2024-11-15T18:44:51.635Z"
   },
   {
    "duration": 44,
    "start_time": "2024-11-15T18:44:51.645Z"
   },
   {
    "duration": 5,
    "start_time": "2024-11-15T18:44:51.692Z"
   },
   {
    "duration": 4,
    "start_time": "2024-11-15T18:44:51.698Z"
   },
   {
    "duration": 3,
    "start_time": "2024-11-15T18:44:51.706Z"
   },
   {
    "duration": 19,
    "start_time": "2024-11-15T18:44:51.711Z"
   },
   {
    "duration": 91,
    "start_time": "2024-11-15T18:44:51.731Z"
   },
   {
    "duration": 415,
    "start_time": "2024-11-15T18:44:51.824Z"
   },
   {
    "duration": 258,
    "start_time": "2024-11-15T18:44:52.241Z"
   },
   {
    "duration": 46,
    "start_time": "2024-11-15T18:44:52.501Z"
   },
   {
    "duration": 234,
    "start_time": "2024-11-15T18:50:01.136Z"
   },
   {
    "duration": 938,
    "start_time": "2024-11-15T18:50:35.490Z"
   },
   {
    "duration": 73,
    "start_time": "2024-11-15T18:50:36.430Z"
   },
   {
    "duration": 16,
    "start_time": "2024-11-15T18:50:36.505Z"
   },
   {
    "duration": 4,
    "start_time": "2024-11-15T18:50:36.523Z"
   },
   {
    "duration": 8,
    "start_time": "2024-11-15T18:50:36.529Z"
   },
   {
    "duration": 5,
    "start_time": "2024-11-15T18:50:36.539Z"
   },
   {
    "duration": 44,
    "start_time": "2024-11-15T18:50:36.546Z"
   },
   {
    "duration": 5,
    "start_time": "2024-11-15T18:50:36.592Z"
   },
   {
    "duration": 5,
    "start_time": "2024-11-15T18:50:36.598Z"
   },
   {
    "duration": 8,
    "start_time": "2024-11-15T18:50:36.604Z"
   },
   {
    "duration": 5,
    "start_time": "2024-11-15T18:50:36.613Z"
   },
   {
    "duration": 3,
    "start_time": "2024-11-15T18:50:36.620Z"
   },
   {
    "duration": 4,
    "start_time": "2024-11-15T18:50:36.625Z"
   },
   {
    "duration": 3,
    "start_time": "2024-11-15T18:50:36.632Z"
   },
   {
    "duration": 59,
    "start_time": "2024-11-15T18:50:36.636Z"
   },
   {
    "duration": 70,
    "start_time": "2024-11-15T18:50:36.697Z"
   },
   {
    "duration": 431,
    "start_time": "2024-11-15T18:50:36.768Z"
   },
   {
    "duration": 261,
    "start_time": "2024-11-15T18:50:37.201Z"
   },
   {
    "duration": 48,
    "start_time": "2024-11-15T18:50:37.464Z"
   },
   {
    "duration": 4,
    "start_time": "2024-11-15T18:50:37.514Z"
   },
   {
    "duration": 4,
    "start_time": "2024-11-15T18:56:48.393Z"
   },
   {
    "duration": 17,
    "start_time": "2024-11-15T19:09:54.621Z"
   },
   {
    "duration": 4,
    "start_time": "2024-11-15T19:11:36.473Z"
   },
   {
    "duration": 185,
    "start_time": "2024-11-15T20:17:38.408Z"
   },
   {
    "duration": 2618,
    "start_time": "2024-11-15T20:17:57.720Z"
   },
   {
    "duration": 82,
    "start_time": "2024-11-15T20:18:06.812Z"
   },
   {
    "duration": 897,
    "start_time": "2024-11-15T20:18:13.931Z"
   },
   {
    "duration": 70,
    "start_time": "2024-11-15T20:18:14.830Z"
   },
   {
    "duration": 17,
    "start_time": "2024-11-15T20:18:14.901Z"
   },
   {
    "duration": 3,
    "start_time": "2024-11-15T20:18:14.919Z"
   },
   {
    "duration": 24,
    "start_time": "2024-11-15T20:18:14.924Z"
   },
   {
    "duration": 5,
    "start_time": "2024-11-15T20:18:14.950Z"
   },
   {
    "duration": 5,
    "start_time": "2024-11-15T20:18:14.957Z"
   },
   {
    "duration": 13,
    "start_time": "2024-11-15T20:18:14.963Z"
   },
   {
    "duration": 5,
    "start_time": "2024-11-15T20:18:14.978Z"
   },
   {
    "duration": 4,
    "start_time": "2024-11-15T20:18:14.984Z"
   },
   {
    "duration": 8,
    "start_time": "2024-11-15T20:18:14.990Z"
   },
   {
    "duration": 43,
    "start_time": "2024-11-15T20:18:14.999Z"
   },
   {
    "duration": 5,
    "start_time": "2024-11-15T20:18:15.044Z"
   },
   {
    "duration": 3,
    "start_time": "2024-11-15T20:18:15.053Z"
   },
   {
    "duration": 5,
    "start_time": "2024-11-15T20:18:15.057Z"
   },
   {
    "duration": 16,
    "start_time": "2024-11-15T20:18:15.064Z"
   },
   {
    "duration": 99,
    "start_time": "2024-11-15T20:18:15.082Z"
   },
   {
    "duration": 423,
    "start_time": "2024-11-15T20:18:15.183Z"
   },
   {
    "duration": 263,
    "start_time": "2024-11-15T20:18:15.608Z"
   },
   {
    "duration": 17,
    "start_time": "2024-11-15T20:18:15.874Z"
   },
   {
    "duration": 50,
    "start_time": "2024-11-15T20:18:15.893Z"
   },
   {
    "duration": 154,
    "start_time": "2024-11-16T15:00:15.060Z"
   },
   {
    "duration": 2629,
    "start_time": "2024-11-16T15:00:55.457Z"
   },
   {
    "duration": 29,
    "start_time": "2024-11-16T15:00:58.089Z"
   },
   {
    "duration": 20,
    "start_time": "2024-11-16T15:00:58.121Z"
   },
   {
    "duration": 3,
    "start_time": "2024-11-16T15:00:58.143Z"
   },
   {
    "duration": 9,
    "start_time": "2024-11-16T15:00:58.149Z"
   },
   {
    "duration": 5,
    "start_time": "2024-11-16T15:00:58.159Z"
   },
   {
    "duration": 5,
    "start_time": "2024-11-16T15:00:58.166Z"
   },
   {
    "duration": 14,
    "start_time": "2024-11-16T15:00:58.172Z"
   },
   {
    "duration": 42,
    "start_time": "2024-11-16T15:00:58.187Z"
   },
   {
    "duration": 5,
    "start_time": "2024-11-16T15:00:58.231Z"
   },
   {
    "duration": 7,
    "start_time": "2024-11-16T15:00:58.237Z"
   },
   {
    "duration": 4,
    "start_time": "2024-11-16T15:00:58.246Z"
   },
   {
    "duration": 5,
    "start_time": "2024-11-16T15:00:58.251Z"
   },
   {
    "duration": 5,
    "start_time": "2024-11-16T15:00:58.259Z"
   },
   {
    "duration": 4,
    "start_time": "2024-11-16T15:00:58.266Z"
   },
   {
    "duration": 56,
    "start_time": "2024-11-16T15:00:58.271Z"
   },
   {
    "duration": 59,
    "start_time": "2024-11-16T15:00:58.329Z"
   },
   {
    "duration": 424,
    "start_time": "2024-11-16T15:00:58.390Z"
   },
   {
    "duration": 220,
    "start_time": "2024-11-16T15:00:58.816Z"
   },
   {
    "duration": 12,
    "start_time": "2024-11-16T15:00:59.038Z"
   },
   {
    "duration": 2,
    "start_time": "2024-11-16T15:00:59.052Z"
   },
   {
    "duration": 4,
    "start_time": "2024-11-16T15:00:59.056Z"
   },
   {
    "duration": 182,
    "start_time": "2024-11-16T16:19:37.630Z"
   },
   {
    "duration": 12,
    "start_time": "2024-11-16T16:20:00.526Z"
   },
   {
    "duration": 2739,
    "start_time": "2024-11-16T16:20:03.962Z"
   },
   {
    "duration": 27,
    "start_time": "2024-11-16T16:20:08.819Z"
   },
   {
    "duration": 17,
    "start_time": "2024-11-16T16:20:12.213Z"
   },
   {
    "duration": 16,
    "start_time": "2024-11-16T16:20:13.679Z"
   },
   {
    "duration": 3,
    "start_time": "2024-11-16T16:20:15.239Z"
   },
   {
    "duration": 9,
    "start_time": "2024-11-16T16:20:15.958Z"
   },
   {
    "duration": 5,
    "start_time": "2024-11-16T16:20:16.587Z"
   },
   {
    "duration": 5,
    "start_time": "2024-11-16T16:20:18.029Z"
   },
   {
    "duration": 20,
    "start_time": "2024-11-16T16:20:19.684Z"
   },
   {
    "duration": 6,
    "start_time": "2024-11-16T16:20:42.505Z"
   },
   {
    "duration": 5,
    "start_time": "2024-11-16T16:21:02.684Z"
   },
   {
    "duration": 13,
    "start_time": "2024-11-16T16:21:37.602Z"
   },
   {
    "duration": 5,
    "start_time": "2024-11-16T16:21:40.893Z"
   },
   {
    "duration": 5,
    "start_time": "2024-11-16T16:21:42.746Z"
   },
   {
    "duration": 11,
    "start_time": "2024-11-16T16:21:44.664Z"
   },
   {
    "duration": 5,
    "start_time": "2024-11-16T16:21:45.748Z"
   },
   {
    "duration": 6,
    "start_time": "2024-11-16T16:21:47.937Z"
   },
   {
    "duration": 4,
    "start_time": "2024-11-16T16:21:48.955Z"
   },
   {
    "duration": 13,
    "start_time": "2024-11-16T16:21:50.005Z"
   },
   {
    "duration": 5,
    "start_time": "2024-11-16T16:21:50.198Z"
   },
   {
    "duration": 6,
    "start_time": "2024-11-16T16:21:50.405Z"
   },
   {
    "duration": 8,
    "start_time": "2024-11-16T16:21:50.764Z"
   },
   {
    "duration": 5,
    "start_time": "2024-11-16T16:21:50.940Z"
   },
   {
    "duration": 5,
    "start_time": "2024-11-16T16:21:51.302Z"
   },
   {
    "duration": 4,
    "start_time": "2024-11-16T16:21:51.473Z"
   },
   {
    "duration": 4,
    "start_time": "2024-11-16T16:21:51.652Z"
   },
   {
    "duration": 9,
    "start_time": "2024-11-16T16:21:52.031Z"
   },
   {
    "duration": 34,
    "start_time": "2024-11-16T16:21:52.253Z"
   },
   {
    "duration": 144,
    "start_time": "2024-11-16T16:21:53.023Z"
   },
   {
    "duration": 92,
    "start_time": "2024-11-16T16:21:53.374Z"
   },
   {
    "duration": 15,
    "start_time": "2024-11-16T16:21:54.202Z"
   },
   {
    "duration": 5,
    "start_time": "2024-11-16T16:21:54.850Z"
   },
   {
    "duration": 13,
    "start_time": "2024-11-16T16:22:26.645Z"
   },
   {
    "duration": 12,
    "start_time": "2024-11-16T16:22:29.359Z"
   },
   {
    "duration": 5,
    "start_time": "2024-11-16T16:22:29.568Z"
   },
   {
    "duration": 4,
    "start_time": "2024-11-16T16:22:29.785Z"
   },
   {
    "duration": 8,
    "start_time": "2024-11-16T16:22:30.184Z"
   },
   {
    "duration": 5,
    "start_time": "2024-11-16T16:22:30.364Z"
   },
   {
    "duration": 4,
    "start_time": "2024-11-16T16:22:30.753Z"
   },
   {
    "duration": 4,
    "start_time": "2024-11-16T16:22:30.948Z"
   },
   {
    "duration": 4,
    "start_time": "2024-11-16T16:22:31.136Z"
   },
   {
    "duration": 9,
    "start_time": "2024-11-16T16:22:31.541Z"
   },
   {
    "duration": 38,
    "start_time": "2024-11-16T16:22:31.743Z"
   },
   {
    "duration": 145,
    "start_time": "2024-11-16T16:22:32.414Z"
   },
   {
    "duration": 94,
    "start_time": "2024-11-16T16:22:32.646Z"
   },
   {
    "duration": 14,
    "start_time": "2024-11-16T16:22:33.095Z"
   },
   {
    "duration": 4,
    "start_time": "2024-11-16T16:22:33.555Z"
   },
   {
    "duration": 4,
    "start_time": "2024-11-16T16:23:52.661Z"
   },
   {
    "duration": 930,
    "start_time": "2024-11-16T16:24:51.488Z"
   },
   {
    "duration": 72,
    "start_time": "2024-11-16T16:24:52.420Z"
   },
   {
    "duration": 16,
    "start_time": "2024-11-16T16:24:52.494Z"
   },
   {
    "duration": 3,
    "start_time": "2024-11-16T16:24:52.513Z"
   },
   {
    "duration": 10,
    "start_time": "2024-11-16T16:24:52.531Z"
   },
   {
    "duration": 5,
    "start_time": "2024-11-16T16:24:52.543Z"
   },
   {
    "duration": 5,
    "start_time": "2024-11-16T16:24:52.550Z"
   },
   {
    "duration": 13,
    "start_time": "2024-11-16T16:24:52.557Z"
   },
   {
    "duration": 4,
    "start_time": "2024-11-16T16:24:52.572Z"
   },
   {
    "duration": 6,
    "start_time": "2024-11-16T16:24:52.580Z"
   },
   {
    "duration": 45,
    "start_time": "2024-11-16T16:24:52.587Z"
   },
   {
    "duration": 5,
    "start_time": "2024-11-16T16:24:52.634Z"
   },
   {
    "duration": 4,
    "start_time": "2024-11-16T16:24:52.640Z"
   },
   {
    "duration": 3,
    "start_time": "2024-11-16T16:24:52.646Z"
   },
   {
    "duration": 4,
    "start_time": "2024-11-16T16:24:52.651Z"
   },
   {
    "duration": 13,
    "start_time": "2024-11-16T16:24:52.657Z"
   },
   {
    "duration": 88,
    "start_time": "2024-11-16T16:24:52.676Z"
   },
   {
    "duration": 249,
    "start_time": "2024-11-16T16:24:52.766Z"
   },
   {
    "duration": 136,
    "start_time": "2024-11-16T16:24:53.017Z"
   },
   {
    "duration": 12,
    "start_time": "2024-11-16T16:24:53.155Z"
   },
   {
    "duration": 4,
    "start_time": "2024-11-16T16:24:53.169Z"
   },
   {
    "duration": 653,
    "start_time": "2024-11-16T16:29:29.840Z"
   },
   {
    "duration": 14,
    "start_time": "2024-11-16T16:30:52.134Z"
   },
   {
    "duration": 14,
    "start_time": "2024-11-16T16:32:31.930Z"
   },
   {
    "duration": 7,
    "start_time": "2024-11-16T16:33:19.466Z"
   },
   {
    "duration": 9,
    "start_time": "2024-11-16T16:35:27.465Z"
   },
   {
    "duration": 8,
    "start_time": "2024-11-16T16:35:50.451Z"
   },
   {
    "duration": 2611,
    "start_time": "2024-11-16T23:06:53.391Z"
   },
   {
    "duration": 24,
    "start_time": "2024-11-16T23:06:56.004Z"
   },
   {
    "duration": 16,
    "start_time": "2024-11-16T23:06:56.030Z"
   },
   {
    "duration": 3,
    "start_time": "2024-11-16T23:06:56.048Z"
   },
   {
    "duration": 8,
    "start_time": "2024-11-16T23:06:56.053Z"
   },
   {
    "duration": 4,
    "start_time": "2024-11-16T23:06:56.063Z"
   },
   {
    "duration": 41,
    "start_time": "2024-11-16T23:06:56.069Z"
   },
   {
    "duration": 14,
    "start_time": "2024-11-16T23:06:56.111Z"
   },
   {
    "duration": 5,
    "start_time": "2024-11-16T23:06:56.127Z"
   },
   {
    "duration": 4,
    "start_time": "2024-11-16T23:06:56.135Z"
   },
   {
    "duration": 7,
    "start_time": "2024-11-16T23:06:56.140Z"
   },
   {
    "duration": 5,
    "start_time": "2024-11-16T23:06:56.149Z"
   },
   {
    "duration": 4,
    "start_time": "2024-11-16T23:06:56.155Z"
   },
   {
    "duration": 5,
    "start_time": "2024-11-16T23:06:56.160Z"
   },
   {
    "duration": 39,
    "start_time": "2024-11-16T23:06:56.167Z"
   },
   {
    "duration": 18,
    "start_time": "2024-11-16T23:06:56.208Z"
   },
   {
    "duration": 57,
    "start_time": "2024-11-16T23:06:56.227Z"
   },
   {
    "duration": 427,
    "start_time": "2024-11-16T23:06:56.286Z"
   },
   {
    "duration": 212,
    "start_time": "2024-11-16T23:06:56.714Z"
   },
   {
    "duration": 13,
    "start_time": "2024-11-16T23:06:56.928Z"
   },
   {
    "duration": 59,
    "start_time": "2024-11-16T23:06:56.946Z"
   },
   {
    "duration": 7,
    "start_time": "2024-11-17T08:38:03.922Z"
   },
   {
    "duration": 4,
    "start_time": "2024-11-17T08:42:07.650Z"
   },
   {
    "duration": 155,
    "start_time": "2024-11-17T13:39:00.736Z"
   },
   {
    "duration": 2553,
    "start_time": "2024-11-17T13:39:07.786Z"
   },
   {
    "duration": 21,
    "start_time": "2024-11-17T13:39:10.341Z"
   },
   {
    "duration": 16,
    "start_time": "2024-11-17T13:39:10.364Z"
   },
   {
    "duration": 3,
    "start_time": "2024-11-17T13:39:10.382Z"
   },
   {
    "duration": 9,
    "start_time": "2024-11-17T13:39:10.387Z"
   },
   {
    "duration": 27,
    "start_time": "2024-11-17T13:39:10.397Z"
   },
   {
    "duration": 9,
    "start_time": "2024-11-17T13:39:10.426Z"
   },
   {
    "duration": 12,
    "start_time": "2024-11-17T13:39:10.436Z"
   },
   {
    "duration": 613,
    "start_time": "2024-11-17T13:39:10.450Z"
   },
   {
    "duration": 0,
    "start_time": "2024-11-17T13:39:11.065Z"
   },
   {
    "duration": 0,
    "start_time": "2024-11-17T13:39:11.066Z"
   },
   {
    "duration": 0,
    "start_time": "2024-11-17T13:39:11.067Z"
   },
   {
    "duration": 0,
    "start_time": "2024-11-17T13:39:11.068Z"
   },
   {
    "duration": 0,
    "start_time": "2024-11-17T13:39:11.069Z"
   },
   {
    "duration": 0,
    "start_time": "2024-11-17T13:39:11.070Z"
   },
   {
    "duration": 0,
    "start_time": "2024-11-17T13:39:11.071Z"
   },
   {
    "duration": 0,
    "start_time": "2024-11-17T13:39:11.073Z"
   },
   {
    "duration": 0,
    "start_time": "2024-11-17T13:39:11.075Z"
   },
   {
    "duration": 0,
    "start_time": "2024-11-17T13:39:11.077Z"
   },
   {
    "duration": 5,
    "start_time": "2024-11-17T13:40:02.292Z"
   },
   {
    "duration": 12,
    "start_time": "2024-11-17T13:40:22.841Z"
   },
   {
    "duration": 2,
    "start_time": "2024-11-17T13:41:59.271Z"
   },
   {
    "duration": 4,
    "start_time": "2024-11-17T13:42:35.739Z"
   },
   {
    "duration": 892,
    "start_time": "2024-11-17T13:43:45.355Z"
   },
   {
    "duration": 61,
    "start_time": "2024-11-17T13:43:46.249Z"
   },
   {
    "duration": 23,
    "start_time": "2024-11-17T13:43:46.311Z"
   },
   {
    "duration": 3,
    "start_time": "2024-11-17T13:43:46.336Z"
   },
   {
    "duration": 8,
    "start_time": "2024-11-17T13:43:46.341Z"
   },
   {
    "duration": 6,
    "start_time": "2024-11-17T13:43:46.350Z"
   },
   {
    "duration": 8,
    "start_time": "2024-11-17T13:43:46.357Z"
   },
   {
    "duration": 2,
    "start_time": "2024-11-17T13:43:46.366Z"
   },
   {
    "duration": 5,
    "start_time": "2024-11-17T13:43:46.370Z"
   },
   {
    "duration": 3,
    "start_time": "2024-11-17T13:43:46.379Z"
   },
   {
    "duration": 2,
    "start_time": "2024-11-17T13:43:46.424Z"
   },
   {
    "duration": 4,
    "start_time": "2024-11-17T13:43:46.427Z"
   },
   {
    "duration": 4,
    "start_time": "2024-11-17T13:43:46.432Z"
   },
   {
    "duration": 4,
    "start_time": "2024-11-17T13:43:46.438Z"
   },
   {
    "duration": 16,
    "start_time": "2024-11-17T13:43:46.444Z"
   },
   {
    "duration": 85,
    "start_time": "2024-11-17T13:43:46.461Z"
   },
   {
    "duration": 413,
    "start_time": "2024-11-17T13:43:46.548Z"
   },
   {
    "duration": 216,
    "start_time": "2024-11-17T13:43:46.963Z"
   },
   {
    "duration": 42,
    "start_time": "2024-11-17T13:43:47.181Z"
   },
   {
    "duration": 218,
    "start_time": "2024-11-17T13:48:22.503Z"
   },
   {
    "duration": 15,
    "start_time": "2024-11-17T13:48:35.996Z"
   },
   {
    "duration": 5,
    "start_time": "2024-11-17T13:49:03.277Z"
   },
   {
    "duration": 4,
    "start_time": "2024-11-17T13:49:05.160Z"
   },
   {
    "duration": 4,
    "start_time": "2024-11-17T13:49:06.784Z"
   },
   {
    "duration": 13,
    "start_time": "2024-11-17T13:49:08.747Z"
   },
   {
    "duration": 4,
    "start_time": "2024-11-17T13:52:43.906Z"
   },
   {
    "duration": 3,
    "start_time": "2024-11-17T13:52:46.831Z"
   },
   {
    "duration": 4,
    "start_time": "2024-11-17T13:52:48.266Z"
   },
   {
    "duration": 13,
    "start_time": "2024-11-17T13:52:50.548Z"
   },
   {
    "duration": 4,
    "start_time": "2024-11-17T13:53:21.550Z"
   },
   {
    "duration": 14,
    "start_time": "2024-11-17T13:53:24.072Z"
   },
   {
    "duration": 858,
    "start_time": "2024-11-17T13:53:39.652Z"
   },
   {
    "duration": 64,
    "start_time": "2024-11-17T13:53:40.512Z"
   },
   {
    "duration": 16,
    "start_time": "2024-11-17T13:53:40.581Z"
   },
   {
    "duration": 4,
    "start_time": "2024-11-17T13:53:40.598Z"
   },
   {
    "duration": 27,
    "start_time": "2024-11-17T13:53:40.604Z"
   },
   {
    "duration": 4,
    "start_time": "2024-11-17T13:53:40.633Z"
   },
   {
    "duration": 8,
    "start_time": "2024-11-17T13:53:40.639Z"
   },
   {
    "duration": 2,
    "start_time": "2024-11-17T13:53:40.649Z"
   },
   {
    "duration": 4,
    "start_time": "2024-11-17T13:53:40.654Z"
   },
   {
    "duration": 4,
    "start_time": "2024-11-17T13:53:40.659Z"
   },
   {
    "duration": 2,
    "start_time": "2024-11-17T13:53:40.664Z"
   },
   {
    "duration": 3,
    "start_time": "2024-11-17T13:53:40.668Z"
   },
   {
    "duration": 4,
    "start_time": "2024-11-17T13:53:40.673Z"
   },
   {
    "duration": 48,
    "start_time": "2024-11-17T13:53:40.678Z"
   },
   {
    "duration": 3,
    "start_time": "2024-11-17T13:53:40.729Z"
   },
   {
    "duration": 233,
    "start_time": "2024-11-17T13:53:40.734Z"
   },
   {
    "duration": 0,
    "start_time": "2024-11-17T13:53:40.968Z"
   },
   {
    "duration": 0,
    "start_time": "2024-11-17T13:53:40.970Z"
   },
   {
    "duration": 0,
    "start_time": "2024-11-17T13:53:40.971Z"
   },
   {
    "duration": 0,
    "start_time": "2024-11-17T13:53:40.972Z"
   },
   {
    "duration": 0,
    "start_time": "2024-11-17T13:53:40.973Z"
   },
   {
    "duration": 4,
    "start_time": "2024-11-17T13:54:25.697Z"
   },
   {
    "duration": 12,
    "start_time": "2024-11-17T13:54:27.877Z"
   },
   {
    "duration": 167,
    "start_time": "2024-11-18T03:22:27.708Z"
   },
   {
    "duration": 12,
    "start_time": "2024-11-18T03:22:29.926Z"
   },
   {
    "duration": 2581,
    "start_time": "2024-11-18T03:22:36.173Z"
   },
   {
    "duration": 26,
    "start_time": "2024-11-18T03:22:38.757Z"
   },
   {
    "duration": 16,
    "start_time": "2024-11-18T03:22:38.784Z"
   },
   {
    "duration": 4,
    "start_time": "2024-11-18T03:22:38.808Z"
   },
   {
    "duration": 8,
    "start_time": "2024-11-18T03:22:38.814Z"
   },
   {
    "duration": 5,
    "start_time": "2024-11-18T03:22:38.824Z"
   },
   {
    "duration": 8,
    "start_time": "2024-11-18T03:22:38.830Z"
   },
   {
    "duration": 4,
    "start_time": "2024-11-18T03:22:38.840Z"
   },
   {
    "duration": 4,
    "start_time": "2024-11-18T03:22:38.846Z"
   },
   {
    "duration": 3,
    "start_time": "2024-11-18T03:22:38.853Z"
   },
   {
    "duration": 3,
    "start_time": "2024-11-18T03:22:38.859Z"
   },
   {
    "duration": 47,
    "start_time": "2024-11-18T03:22:38.864Z"
   },
   {
    "duration": 3,
    "start_time": "2024-11-18T03:22:38.913Z"
   },
   {
    "duration": 3,
    "start_time": "2024-11-18T03:22:38.918Z"
   },
   {
    "duration": 16,
    "start_time": "2024-11-18T03:22:38.923Z"
   },
   {
    "duration": 81,
    "start_time": "2024-11-18T03:22:38.941Z"
   },
   {
    "duration": 406,
    "start_time": "2024-11-18T03:22:39.024Z"
   },
   {
    "duration": 215,
    "start_time": "2024-11-18T03:22:39.432Z"
   },
   {
    "duration": 12,
    "start_time": "2024-11-18T03:22:39.648Z"
   },
   {
    "duration": 5,
    "start_time": "2024-11-18T03:23:40.656Z"
   },
   {
    "duration": 4,
    "start_time": "2024-11-18T03:23:41.881Z"
   },
   {
    "duration": 4,
    "start_time": "2024-11-18T03:23:43.618Z"
   },
   {
    "duration": 4,
    "start_time": "2024-11-18T03:23:44.942Z"
   },
   {
    "duration": 3,
    "start_time": "2024-11-18T03:23:46.861Z"
   },
   {
    "duration": 15,
    "start_time": "2024-11-18T03:23:51.473Z"
   },
   {
    "duration": 49,
    "start_time": "2024-11-18T03:23:53.646Z"
   },
   {
    "duration": 325,
    "start_time": "2024-11-18T03:24:00.184Z"
   },
   {
    "duration": 172,
    "start_time": "2024-11-18T03:24:04.014Z"
   },
   {
    "duration": 4,
    "start_time": "2024-11-18T03:24:48.542Z"
   },
   {
    "duration": 5,
    "start_time": "2024-11-18T03:24:49.728Z"
   },
   {
    "duration": 4,
    "start_time": "2024-11-18T03:24:50.723Z"
   },
   {
    "duration": 4,
    "start_time": "2024-11-18T03:24:52.490Z"
   },
   {
    "duration": 4,
    "start_time": "2024-11-18T03:24:54.339Z"
   },
   {
    "duration": 4,
    "start_time": "2024-11-18T03:25:21.684Z"
   },
   {
    "duration": 4,
    "start_time": "2024-11-18T03:25:24.600Z"
   },
   {
    "duration": 4,
    "start_time": "2024-11-18T03:25:26.205Z"
   },
   {
    "duration": 4,
    "start_time": "2024-11-18T03:25:29.893Z"
   },
   {
    "duration": 4,
    "start_time": "2024-11-18T03:25:31.895Z"
   },
   {
    "duration": 4,
    "start_time": "2024-11-18T03:25:33.134Z"
   },
   {
    "duration": 3,
    "start_time": "2024-11-18T03:25:35.135Z"
   },
   {
    "duration": 48,
    "start_time": "2024-11-18T03:28:55.405Z"
   },
   {
    "duration": 58,
    "start_time": "2024-11-18T03:33:05.394Z"
   },
   {
    "duration": 52,
    "start_time": "2024-11-18T03:33:11.929Z"
   },
   {
    "duration": 24,
    "start_time": "2024-11-18T03:42:43.913Z"
   },
   {
    "duration": 20,
    "start_time": "2024-11-18T03:44:24.555Z"
   },
   {
    "duration": 18,
    "start_time": "2024-11-18T03:46:45.590Z"
   },
   {
    "duration": 858,
    "start_time": "2024-11-18T03:57:55.074Z"
   },
   {
    "duration": 67,
    "start_time": "2024-11-18T03:57:55.934Z"
   },
   {
    "duration": 20,
    "start_time": "2024-11-18T03:57:56.003Z"
   },
   {
    "duration": 3,
    "start_time": "2024-11-18T03:57:56.025Z"
   },
   {
    "duration": 8,
    "start_time": "2024-11-18T03:57:56.031Z"
   },
   {
    "duration": 4,
    "start_time": "2024-11-18T03:57:56.040Z"
   },
   {
    "duration": 9,
    "start_time": "2024-11-18T03:57:56.046Z"
   },
   {
    "duration": 4,
    "start_time": "2024-11-18T03:57:56.056Z"
   },
   {
    "duration": 4,
    "start_time": "2024-11-18T03:57:56.061Z"
   },
   {
    "duration": 45,
    "start_time": "2024-11-18T03:57:56.066Z"
   },
   {
    "duration": 5,
    "start_time": "2024-11-18T03:57:56.113Z"
   },
   {
    "duration": 5,
    "start_time": "2024-11-18T03:57:56.119Z"
   },
   {
    "duration": 238,
    "start_time": "2024-11-18T03:57:56.126Z"
   },
   {
    "duration": 0,
    "start_time": "2024-11-18T03:57:56.366Z"
   },
   {
    "duration": 0,
    "start_time": "2024-11-18T03:57:56.368Z"
   },
   {
    "duration": 0,
    "start_time": "2024-11-18T03:57:56.369Z"
   },
   {
    "duration": 0,
    "start_time": "2024-11-18T03:57:56.371Z"
   },
   {
    "duration": 0,
    "start_time": "2024-11-18T03:57:56.372Z"
   },
   {
    "duration": 0,
    "start_time": "2024-11-18T03:57:56.373Z"
   },
   {
    "duration": 14,
    "start_time": "2024-11-18T04:00:03.512Z"
   },
   {
    "duration": 5,
    "start_time": "2024-11-18T04:01:00.195Z"
   },
   {
    "duration": 4,
    "start_time": "2024-11-18T04:01:03.060Z"
   },
   {
    "duration": 4,
    "start_time": "2024-11-18T04:01:05.381Z"
   },
   {
    "duration": 4,
    "start_time": "2024-11-18T04:01:06.861Z"
   },
   {
    "duration": 14,
    "start_time": "2024-11-18T04:05:58.314Z"
   },
   {
    "duration": 3,
    "start_time": "2024-11-18T04:07:29.827Z"
   },
   {
    "duration": 14,
    "start_time": "2024-11-18T04:07:37.715Z"
   },
   {
    "duration": 4,
    "start_time": "2024-11-18T04:07:48.243Z"
   },
   {
    "duration": 4,
    "start_time": "2024-11-18T04:07:51.568Z"
   },
   {
    "duration": 4,
    "start_time": "2024-11-18T04:07:53.568Z"
   },
   {
    "duration": 15,
    "start_time": "2024-11-18T04:07:55.292Z"
   },
   {
    "duration": 4,
    "start_time": "2024-11-18T04:08:28.349Z"
   },
   {
    "duration": 4,
    "start_time": "2024-11-18T04:10:32.108Z"
   },
   {
    "duration": 4,
    "start_time": "2024-11-18T04:10:33.721Z"
   },
   {
    "duration": 4,
    "start_time": "2024-11-18T04:10:35.649Z"
   },
   {
    "duration": 5,
    "start_time": "2024-11-18T04:10:47.170Z"
   },
   {
    "duration": 4,
    "start_time": "2024-11-18T04:10:48.909Z"
   },
   {
    "duration": 4,
    "start_time": "2024-11-18T04:10:50.833Z"
   },
   {
    "duration": 4,
    "start_time": "2024-11-18T04:10:52.368Z"
   },
   {
    "duration": 904,
    "start_time": "2024-11-18T04:11:08.236Z"
   },
   {
    "duration": 71,
    "start_time": "2024-11-18T04:11:09.142Z"
   },
   {
    "duration": 16,
    "start_time": "2024-11-18T04:11:09.215Z"
   },
   {
    "duration": 3,
    "start_time": "2024-11-18T04:11:09.233Z"
   },
   {
    "duration": 8,
    "start_time": "2024-11-18T04:11:09.239Z"
   },
   {
    "duration": 5,
    "start_time": "2024-11-18T04:11:09.248Z"
   },
   {
    "duration": 7,
    "start_time": "2024-11-18T04:11:09.255Z"
   },
   {
    "duration": 5,
    "start_time": "2024-11-18T04:11:09.264Z"
   },
   {
    "duration": 3,
    "start_time": "2024-11-18T04:11:09.308Z"
   },
   {
    "duration": 4,
    "start_time": "2024-11-18T04:11:09.314Z"
   },
   {
    "duration": 4,
    "start_time": "2024-11-18T04:11:09.319Z"
   },
   {
    "duration": 3,
    "start_time": "2024-11-18T04:11:09.325Z"
   },
   {
    "duration": 266,
    "start_time": "2024-11-18T04:11:09.330Z"
   },
   {
    "duration": 0,
    "start_time": "2024-11-18T04:11:09.599Z"
   },
   {
    "duration": 0,
    "start_time": "2024-11-18T04:11:09.608Z"
   },
   {
    "duration": 0,
    "start_time": "2024-11-18T04:11:09.609Z"
   },
   {
    "duration": 0,
    "start_time": "2024-11-18T04:11:09.610Z"
   },
   {
    "duration": 0,
    "start_time": "2024-11-18T04:11:09.611Z"
   },
   {
    "duration": 0,
    "start_time": "2024-11-18T04:11:09.612Z"
   },
   {
    "duration": 4,
    "start_time": "2024-11-18T04:13:58.180Z"
   },
   {
    "duration": 4,
    "start_time": "2024-11-18T04:13:59.886Z"
   },
   {
    "duration": 4,
    "start_time": "2024-11-18T04:14:01.756Z"
   },
   {
    "duration": 4,
    "start_time": "2024-11-18T04:14:03.578Z"
   },
   {
    "duration": 6,
    "start_time": "2024-11-18T04:16:35.139Z"
   },
   {
    "duration": 13,
    "start_time": "2024-11-18T04:16:45.177Z"
   },
   {
    "duration": 4,
    "start_time": "2024-11-18T04:19:07.371Z"
   },
   {
    "duration": 5,
    "start_time": "2024-11-18T04:19:39.004Z"
   },
   {
    "duration": 6077,
    "start_time": "2024-11-18T04:20:01.900Z"
   },
   {
    "duration": 253,
    "start_time": "2024-11-18T04:20:30.382Z"
   },
   {
    "duration": 7,
    "start_time": "2024-11-18T04:20:36.894Z"
   },
   {
    "duration": 4,
    "start_time": "2024-11-18T04:24:10.965Z"
   },
   {
    "duration": 15,
    "start_time": "2024-11-18T04:29:23.878Z"
   },
   {
    "duration": 5,
    "start_time": "2024-11-18T04:29:53.587Z"
   },
   {
    "duration": 4,
    "start_time": "2024-11-18T04:29:56.889Z"
   },
   {
    "duration": 4,
    "start_time": "2024-11-18T04:31:24.816Z"
   },
   {
    "duration": 4,
    "start_time": "2024-11-18T04:31:26.005Z"
   },
   {
    "duration": 5,
    "start_time": "2024-11-18T04:31:26.808Z"
   },
   {
    "duration": 4,
    "start_time": "2024-11-18T04:31:29.321Z"
   },
   {
    "duration": 4,
    "start_time": "2024-11-18T04:31:30.846Z"
   },
   {
    "duration": 15,
    "start_time": "2024-11-18T04:34:08.411Z"
   },
   {
    "duration": 5,
    "start_time": "2024-11-18T04:34:44.304Z"
   },
   {
    "duration": 4,
    "start_time": "2024-11-18T04:34:45.806Z"
   },
   {
    "duration": 3,
    "start_time": "2024-11-18T04:35:21.013Z"
   },
   {
    "duration": 4,
    "start_time": "2024-11-18T04:35:36.079Z"
   },
   {
    "duration": 4,
    "start_time": "2024-11-18T04:35:44.318Z"
   },
   {
    "duration": 4,
    "start_time": "2024-11-18T04:37:42.888Z"
   },
   {
    "duration": 11,
    "start_time": "2024-11-18T04:37:44.150Z"
   },
   {
    "duration": 39,
    "start_time": "2024-11-18T04:37:44.386Z"
   },
   {
    "duration": 224,
    "start_time": "2024-11-18T04:37:46.633Z"
   },
   {
    "duration": 152,
    "start_time": "2024-11-18T04:37:47.228Z"
   },
   {
    "duration": 10,
    "start_time": "2024-11-18T04:37:51.778Z"
   },
   {
    "duration": 15,
    "start_time": "2024-11-18T04:37:56.894Z"
   },
   {
    "duration": 4,
    "start_time": "2024-11-18T04:40:05.638Z"
   },
   {
    "duration": 4,
    "start_time": "2024-11-18T04:40:06.804Z"
   },
   {
    "duration": 3,
    "start_time": "2024-11-18T04:40:09.546Z"
   },
   {
    "duration": 4,
    "start_time": "2024-11-18T04:40:11.557Z"
   },
   {
    "duration": 4,
    "start_time": "2024-11-18T04:40:13.528Z"
   },
   {
    "duration": 4,
    "start_time": "2024-11-18T04:40:50.254Z"
   },
   {
    "duration": 4,
    "start_time": "2024-11-18T04:40:51.947Z"
   },
   {
    "duration": 3,
    "start_time": "2024-11-18T04:40:53.013Z"
   },
   {
    "duration": 4,
    "start_time": "2024-11-18T04:40:54.591Z"
   },
   {
    "duration": 4,
    "start_time": "2024-11-18T04:40:56.411Z"
   },
   {
    "duration": 5,
    "start_time": "2024-11-18T04:42:04.896Z"
   },
   {
    "duration": 5,
    "start_time": "2024-11-18T04:42:06.186Z"
   },
   {
    "duration": 3,
    "start_time": "2024-11-18T04:42:08.587Z"
   },
   {
    "duration": 4,
    "start_time": "2024-11-18T04:42:10.316Z"
   },
   {
    "duration": 4,
    "start_time": "2024-11-18T04:42:12.082Z"
   },
   {
    "duration": 4,
    "start_time": "2024-11-18T04:43:36.233Z"
   },
   {
    "duration": 17,
    "start_time": "2024-11-18T04:43:37.485Z"
   },
   {
    "duration": 5,
    "start_time": "2024-11-18T04:43:49.239Z"
   },
   {
    "duration": 4,
    "start_time": "2024-11-18T04:43:51.030Z"
   },
   {
    "duration": 3,
    "start_time": "2024-11-18T04:43:52.846Z"
   },
   {
    "duration": 3,
    "start_time": "2024-11-18T04:43:54.653Z"
   },
   {
    "duration": 4,
    "start_time": "2024-11-18T04:43:56.425Z"
   },
   {
    "duration": 914,
    "start_time": "2024-11-18T04:44:03.244Z"
   },
   {
    "duration": 67,
    "start_time": "2024-11-18T04:44:04.160Z"
   },
   {
    "duration": 16,
    "start_time": "2024-11-18T04:44:04.229Z"
   },
   {
    "duration": 3,
    "start_time": "2024-11-18T04:44:04.246Z"
   },
   {
    "duration": 8,
    "start_time": "2024-11-18T04:44:04.251Z"
   },
   {
    "duration": 5,
    "start_time": "2024-11-18T04:44:04.261Z"
   },
   {
    "duration": 9,
    "start_time": "2024-11-18T04:44:04.268Z"
   },
   {
    "duration": 35,
    "start_time": "2024-11-18T04:44:04.278Z"
   },
   {
    "duration": 4,
    "start_time": "2024-11-18T04:44:04.315Z"
   },
   {
    "duration": 4,
    "start_time": "2024-11-18T04:44:04.321Z"
   },
   {
    "duration": 4,
    "start_time": "2024-11-18T04:44:04.327Z"
   },
   {
    "duration": 4,
    "start_time": "2024-11-18T04:44:04.332Z"
   },
   {
    "duration": 3,
    "start_time": "2024-11-18T04:44:04.338Z"
   },
   {
    "duration": 3,
    "start_time": "2024-11-18T04:44:04.344Z"
   },
   {
    "duration": 15,
    "start_time": "2024-11-18T04:44:04.348Z"
   },
   {
    "duration": 92,
    "start_time": "2024-11-18T04:44:04.364Z"
   },
   {
    "duration": 342,
    "start_time": "2024-11-18T04:44:04.457Z"
   },
   {
    "duration": 177,
    "start_time": "2024-11-18T04:44:04.809Z"
   },
   {
    "duration": 11,
    "start_time": "2024-11-18T04:44:04.987Z"
   },
   {
    "duration": 227,
    "start_time": "2024-11-18T04:44:04.999Z"
   },
   {
    "duration": 22,
    "start_time": "2024-11-18T04:46:59.521Z"
   },
   {
    "duration": 905,
    "start_time": "2024-11-18T04:53:16.066Z"
   },
   {
    "duration": 67,
    "start_time": "2024-11-18T04:53:16.973Z"
   },
   {
    "duration": 17,
    "start_time": "2024-11-18T04:53:17.041Z"
   },
   {
    "duration": 4,
    "start_time": "2024-11-18T04:53:17.059Z"
   },
   {
    "duration": 8,
    "start_time": "2024-11-18T04:53:17.066Z"
   },
   {
    "duration": 5,
    "start_time": "2024-11-18T04:53:17.075Z"
   },
   {
    "duration": 35,
    "start_time": "2024-11-18T04:53:17.081Z"
   },
   {
    "duration": 4,
    "start_time": "2024-11-18T04:53:17.118Z"
   },
   {
    "duration": 3,
    "start_time": "2024-11-18T04:53:17.124Z"
   },
   {
    "duration": 5,
    "start_time": "2024-11-18T04:53:17.129Z"
   },
   {
    "duration": 4,
    "start_time": "2024-11-18T04:53:17.135Z"
   },
   {
    "duration": 3,
    "start_time": "2024-11-18T04:53:17.141Z"
   },
   {
    "duration": 4,
    "start_time": "2024-11-18T04:53:17.146Z"
   },
   {
    "duration": 2,
    "start_time": "2024-11-18T04:53:17.153Z"
   },
   {
    "duration": 66,
    "start_time": "2024-11-18T04:53:17.157Z"
   },
   {
    "duration": 60,
    "start_time": "2024-11-18T04:53:17.226Z"
   },
   {
    "duration": 359,
    "start_time": "2024-11-18T04:53:17.289Z"
   },
   {
    "duration": 185,
    "start_time": "2024-11-18T04:53:17.649Z"
   },
   {
    "duration": 10,
    "start_time": "2024-11-18T04:53:17.836Z"
   },
   {
    "duration": 20,
    "start_time": "2024-11-18T04:53:17.848Z"
   },
   {
    "duration": 6,
    "start_time": "2024-11-18T08:41:48.775Z"
   },
   {
    "duration": 3,
    "start_time": "2024-11-18T08:42:22.861Z"
   },
   {
    "duration": 161,
    "start_time": "2024-11-18T14:42:09.873Z"
   },
   {
    "duration": 2810,
    "start_time": "2024-11-18T14:42:16.952Z"
   },
   {
    "duration": 36,
    "start_time": "2024-11-18T14:42:19.769Z"
   },
   {
    "duration": 17,
    "start_time": "2024-11-18T14:42:19.809Z"
   },
   {
    "duration": 4,
    "start_time": "2024-11-18T14:42:19.828Z"
   },
   {
    "duration": 8,
    "start_time": "2024-11-18T14:42:19.834Z"
   },
   {
    "duration": 5,
    "start_time": "2024-11-18T14:42:19.845Z"
   },
   {
    "duration": 10,
    "start_time": "2024-11-18T14:42:19.852Z"
   },
   {
    "duration": 5,
    "start_time": "2024-11-18T14:42:19.863Z"
   },
   {
    "duration": 5,
    "start_time": "2024-11-18T14:42:19.872Z"
   },
   {
    "duration": 4,
    "start_time": "2024-11-18T14:42:19.879Z"
   },
   {
    "duration": 46,
    "start_time": "2024-11-18T14:42:19.885Z"
   },
   {
    "duration": 4,
    "start_time": "2024-11-18T14:42:19.933Z"
   },
   {
    "duration": 3,
    "start_time": "2024-11-18T14:42:19.939Z"
   },
   {
    "duration": 4,
    "start_time": "2024-11-18T14:42:19.944Z"
   },
   {
    "duration": 16,
    "start_time": "2024-11-18T14:42:19.950Z"
   },
   {
    "duration": 82,
    "start_time": "2024-11-18T14:42:19.969Z"
   },
   {
    "duration": 349,
    "start_time": "2024-11-18T14:42:20.052Z"
   },
   {
    "duration": 187,
    "start_time": "2024-11-18T14:42:20.403Z"
   },
   {
    "duration": 12,
    "start_time": "2024-11-18T14:42:20.591Z"
   },
   {
    "duration": 62,
    "start_time": "2024-11-18T14:42:20.605Z"
   },
   {
    "duration": 158,
    "start_time": "2024-11-18T15:22:04.246Z"
   },
   {
    "duration": 2704,
    "start_time": "2024-11-18T15:22:28.390Z"
   },
   {
    "duration": 24,
    "start_time": "2024-11-18T15:22:31.097Z"
   },
   {
    "duration": 21,
    "start_time": "2024-11-18T15:22:31.122Z"
   },
   {
    "duration": 4,
    "start_time": "2024-11-18T15:22:31.145Z"
   },
   {
    "duration": 9,
    "start_time": "2024-11-18T15:22:31.153Z"
   },
   {
    "duration": 4,
    "start_time": "2024-11-18T15:22:31.164Z"
   },
   {
    "duration": 9,
    "start_time": "2024-11-18T15:22:31.170Z"
   },
   {
    "duration": 5,
    "start_time": "2024-11-18T15:22:31.180Z"
   },
   {
    "duration": 4,
    "start_time": "2024-11-18T15:22:31.188Z"
   },
   {
    "duration": 5,
    "start_time": "2024-11-18T15:22:31.193Z"
   },
   {
    "duration": 43,
    "start_time": "2024-11-18T15:22:31.200Z"
   },
   {
    "duration": 5,
    "start_time": "2024-11-18T15:22:31.245Z"
   },
   {
    "duration": 5,
    "start_time": "2024-11-18T15:22:31.252Z"
   },
   {
    "duration": 3,
    "start_time": "2024-11-18T15:22:31.260Z"
   },
   {
    "duration": 15,
    "start_time": "2024-11-18T15:22:31.264Z"
   },
   {
    "duration": 79,
    "start_time": "2024-11-18T15:22:31.281Z"
   },
   {
    "duration": 346,
    "start_time": "2024-11-18T15:22:31.361Z"
   },
   {
    "duration": 181,
    "start_time": "2024-11-18T15:22:31.709Z"
   },
   {
    "duration": 11,
    "start_time": "2024-11-18T15:22:31.892Z"
   },
   {
    "duration": 63,
    "start_time": "2024-11-18T15:22:31.904Z"
   },
   {
    "duration": 231,
    "start_time": "2024-11-18T15:22:31.968Z"
   },
   {
    "duration": 21,
    "start_time": "2024-11-18T15:24:11.800Z"
   },
   {
    "duration": 14,
    "start_time": "2024-11-18T15:26:00.412Z"
   },
   {
    "duration": 33,
    "start_time": "2024-11-18T15:26:14.189Z"
   },
   {
    "duration": 5,
    "start_time": "2024-11-18T15:29:32.091Z"
   },
   {
    "duration": 5,
    "start_time": "2024-11-18T15:29:32.943Z"
   },
   {
    "duration": 4,
    "start_time": "2024-11-18T15:29:33.950Z"
   },
   {
    "duration": 3,
    "start_time": "2024-11-18T15:29:35.498Z"
   },
   {
    "duration": 4,
    "start_time": "2024-11-18T15:29:36.919Z"
   },
   {
    "duration": 4,
    "start_time": "2024-11-18T15:29:44.461Z"
   },
   {
    "duration": 4,
    "start_time": "2024-11-18T15:29:45.610Z"
   },
   {
    "duration": 4,
    "start_time": "2024-11-18T15:29:46.573Z"
   },
   {
    "duration": 4,
    "start_time": "2024-11-18T15:29:48.198Z"
   },
   {
    "duration": 4,
    "start_time": "2024-11-18T15:29:49.629Z"
   },
   {
    "duration": 4,
    "start_time": "2024-11-18T15:29:59.193Z"
   },
   {
    "duration": 5,
    "start_time": "2024-11-18T15:30:00.310Z"
   },
   {
    "duration": 4,
    "start_time": "2024-11-18T15:30:01.813Z"
   },
   {
    "duration": 5,
    "start_time": "2024-11-18T15:30:03.193Z"
   },
   {
    "duration": 4,
    "start_time": "2024-11-18T15:30:04.490Z"
   },
   {
    "duration": 19,
    "start_time": "2024-11-18T15:49:05.727Z"
   },
   {
    "duration": 6,
    "start_time": "2024-11-18T16:12:29.978Z"
   },
   {
    "duration": 4,
    "start_time": "2024-11-18T16:12:37.984Z"
   },
   {
    "duration": 4,
    "start_time": "2024-11-18T16:12:58.027Z"
   },
   {
    "duration": 4,
    "start_time": "2024-11-18T16:13:07.769Z"
   },
   {
    "duration": 5,
    "start_time": "2024-11-18T16:13:42.718Z"
   },
   {
    "duration": 3,
    "start_time": "2024-11-18T16:14:03.223Z"
   },
   {
    "duration": 5,
    "start_time": "2024-11-18T16:14:13.147Z"
   },
   {
    "duration": 4,
    "start_time": "2024-11-18T16:14:28.031Z"
   },
   {
    "duration": 4,
    "start_time": "2024-11-18T16:15:19.801Z"
   },
   {
    "duration": 17,
    "start_time": "2024-11-18T16:16:06.142Z"
   },
   {
    "duration": 5,
    "start_time": "2024-11-18T16:16:39.387Z"
   },
   {
    "duration": 3,
    "start_time": "2024-11-18T16:17:00.527Z"
   },
   {
    "duration": 5,
    "start_time": "2024-11-18T16:17:10.994Z"
   },
   {
    "duration": 3,
    "start_time": "2024-11-18T16:17:29.834Z"
   },
   {
    "duration": 4,
    "start_time": "2024-11-18T16:17:31.605Z"
   },
   {
    "duration": 3,
    "start_time": "2024-11-18T16:17:35.780Z"
   },
   {
    "duration": 6,
    "start_time": "2024-11-18T16:19:38.008Z"
   },
   {
    "duration": 4,
    "start_time": "2024-11-18T16:19:39.950Z"
   },
   {
    "duration": 334,
    "start_time": "2024-11-18T16:21:50.738Z"
   },
   {
    "duration": 972,
    "start_time": "2024-11-18T16:22:14.457Z"
   },
   {
    "duration": 71,
    "start_time": "2024-11-18T16:22:15.431Z"
   },
   {
    "duration": 17,
    "start_time": "2024-11-18T16:22:15.504Z"
   },
   {
    "duration": 4,
    "start_time": "2024-11-18T16:22:15.523Z"
   },
   {
    "duration": 8,
    "start_time": "2024-11-18T16:22:15.542Z"
   },
   {
    "duration": 5,
    "start_time": "2024-11-18T16:22:15.552Z"
   },
   {
    "duration": 8,
    "start_time": "2024-11-18T16:22:15.558Z"
   },
   {
    "duration": 4,
    "start_time": "2024-11-18T16:22:15.569Z"
   },
   {
    "duration": 3,
    "start_time": "2024-11-18T16:22:15.575Z"
   },
   {
    "duration": 5,
    "start_time": "2024-11-18T16:22:15.581Z"
   },
   {
    "duration": 3,
    "start_time": "2024-11-18T16:22:15.588Z"
   },
   {
    "duration": 4,
    "start_time": "2024-11-18T16:22:15.593Z"
   },
   {
    "duration": 46,
    "start_time": "2024-11-18T16:22:15.599Z"
   },
   {
    "duration": 15,
    "start_time": "2024-11-18T16:22:15.646Z"
   },
   {
    "duration": 243,
    "start_time": "2024-11-18T16:22:15.663Z"
   },
   {
    "duration": 0,
    "start_time": "2024-11-18T16:22:15.908Z"
   },
   {
    "duration": 0,
    "start_time": "2024-11-18T16:22:15.909Z"
   },
   {
    "duration": 0,
    "start_time": "2024-11-18T16:22:15.910Z"
   },
   {
    "duration": 0,
    "start_time": "2024-11-18T16:22:15.911Z"
   },
   {
    "duration": 0,
    "start_time": "2024-11-18T16:22:15.926Z"
   },
   {
    "duration": 0,
    "start_time": "2024-11-18T16:22:15.928Z"
   },
   {
    "duration": 0,
    "start_time": "2024-11-18T16:22:15.929Z"
   },
   {
    "duration": 2,
    "start_time": "2024-11-18T16:22:57.512Z"
   },
   {
    "duration": 49,
    "start_time": "2024-11-18T16:23:00.170Z"
   },
   {
    "duration": 333,
    "start_time": "2024-11-18T16:23:00.971Z"
   },
   {
    "duration": 1,
    "start_time": "2024-11-18T16:23:01.305Z"
   },
   {
    "duration": 9,
    "start_time": "2024-11-18T16:23:01.731Z"
   },
   {
    "duration": 19,
    "start_time": "2024-11-18T16:23:02.517Z"
   },
   {
    "duration": 21,
    "start_time": "2024-11-18T16:23:02.714Z"
   },
   {
    "duration": 32,
    "start_time": "2024-11-18T16:23:02.917Z"
   },
   {
    "duration": 338,
    "start_time": "2024-11-18T16:24:10.207Z"
   },
   {
    "duration": 172,
    "start_time": "2024-11-18T16:24:12.704Z"
   },
   {
    "duration": 2,
    "start_time": "2024-11-18T16:24:35.079Z"
   },
   {
    "duration": 222,
    "start_time": "2024-11-18T16:26:24.704Z"
   },
   {
    "duration": 952,
    "start_time": "2024-11-18T16:26:44.577Z"
   },
   {
    "duration": 72,
    "start_time": "2024-11-18T16:26:45.531Z"
   },
   {
    "duration": 18,
    "start_time": "2024-11-18T16:26:45.604Z"
   },
   {
    "duration": 3,
    "start_time": "2024-11-18T16:26:45.623Z"
   },
   {
    "duration": 9,
    "start_time": "2024-11-18T16:26:45.644Z"
   },
   {
    "duration": 6,
    "start_time": "2024-11-18T16:26:45.654Z"
   },
   {
    "duration": 9,
    "start_time": "2024-11-18T16:26:45.662Z"
   },
   {
    "duration": 4,
    "start_time": "2024-11-18T16:26:45.673Z"
   },
   {
    "duration": 5,
    "start_time": "2024-11-18T16:26:45.679Z"
   },
   {
    "duration": 5,
    "start_time": "2024-11-18T16:26:45.685Z"
   },
   {
    "duration": 4,
    "start_time": "2024-11-18T16:26:45.691Z"
   },
   {
    "duration": 47,
    "start_time": "2024-11-18T16:26:45.696Z"
   },
   {
    "duration": 3,
    "start_time": "2024-11-18T16:26:45.745Z"
   },
   {
    "duration": 14,
    "start_time": "2024-11-18T16:26:45.752Z"
   },
   {
    "duration": 2,
    "start_time": "2024-11-18T16:26:45.768Z"
   },
   {
    "duration": 74,
    "start_time": "2024-11-18T16:26:45.772Z"
   },
   {
    "duration": 340,
    "start_time": "2024-11-18T16:26:45.848Z"
   },
   {
    "duration": 183,
    "start_time": "2024-11-18T16:26:46.190Z"
   },
   {
    "duration": 9,
    "start_time": "2024-11-18T16:26:46.376Z"
   },
   {
    "duration": 3,
    "start_time": "2024-11-18T16:26:46.387Z"
   },
   {
    "duration": 454,
    "start_time": "2024-11-18T16:26:46.392Z"
   },
   {
    "duration": 0,
    "start_time": "2024-11-18T16:26:46.849Z"
   },
   {
    "duration": 41,
    "start_time": "2024-11-18T16:28:37.499Z"
   },
   {
    "duration": 42,
    "start_time": "2024-11-18T16:28:52.306Z"
   },
   {
    "duration": 95,
    "start_time": "2024-11-18T16:29:12.340Z"
   },
   {
    "duration": 31,
    "start_time": "2024-11-18T16:29:24.334Z"
   },
   {
    "duration": 34,
    "start_time": "2024-11-18T16:32:11.849Z"
   },
   {
    "duration": 35,
    "start_time": "2024-11-18T16:33:12.841Z"
   },
   {
    "duration": 35,
    "start_time": "2024-11-18T16:34:50.653Z"
   },
   {
    "duration": 36,
    "start_time": "2024-11-18T16:38:59.059Z"
   },
   {
    "duration": 35,
    "start_time": "2024-11-18T16:40:09.370Z"
   },
   {
    "duration": 33,
    "start_time": "2024-11-18T16:43:58.093Z"
   }
  ],
  "kernelspec": {
   "display_name": "Python 3 (ipykernel)",
   "language": "python",
   "name": "python3"
  },
  "language_info": {
   "codemirror_mode": {
    "name": "ipython",
    "version": 3
   },
   "file_extension": ".py",
   "mimetype": "text/x-python",
   "name": "python",
   "nbconvert_exporter": "python",
   "pygments_lexer": "ipython3",
   "version": "3.9.19"
  },
  "toc": {
   "base_numbering": 1,
   "nav_menu": {},
   "number_sections": true,
   "sideBar": true,
   "skip_h1_title": true,
   "title_cell": "Table of Contents",
   "title_sidebar": "Contents",
   "toc_cell": false,
   "toc_position": {},
   "toc_section_display": true,
   "toc_window_display": false
  }
 },
 "nbformat": 4,
 "nbformat_minor": 2
}
